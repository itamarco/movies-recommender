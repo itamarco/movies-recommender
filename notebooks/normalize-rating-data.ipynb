{
 "cells": [
  {
   "cell_type": "code",
   "execution_count": 1,
   "metadata": {},
   "outputs": [],
   "source": [
    "import pandas as pd"
   ]
  },
  {
   "cell_type": "code",
   "execution_count": 2,
   "metadata": {},
   "outputs": [
    {
     "data": {
      "text/html": [
       "<div>\n",
       "<style scoped>\n",
       "    .dataframe tbody tr th:only-of-type {\n",
       "        vertical-align: middle;\n",
       "    }\n",
       "\n",
       "    .dataframe tbody tr th {\n",
       "        vertical-align: top;\n",
       "    }\n",
       "\n",
       "    .dataframe thead th {\n",
       "        text-align: right;\n",
       "    }\n",
       "</style>\n",
       "<table border=\"1\" class=\"dataframe\">\n",
       "  <thead>\n",
       "    <tr style=\"text-align: right;\">\n",
       "      <th></th>\n",
       "      <th>userId</th>\n",
       "      <th>movieId</th>\n",
       "      <th>rating</th>\n",
       "      <th>timestamp</th>\n",
       "    </tr>\n",
       "  </thead>\n",
       "  <tbody>\n",
       "    <tr>\n",
       "      <th>2931672</th>\n",
       "      <td>19327</td>\n",
       "      <td>434</td>\n",
       "      <td>5.0</td>\n",
       "      <td>835459504</td>\n",
       "    </tr>\n",
       "    <tr>\n",
       "      <th>12349078</th>\n",
       "      <td>79967</td>\n",
       "      <td>84954</td>\n",
       "      <td>2.0</td>\n",
       "      <td>1480815245</td>\n",
       "    </tr>\n",
       "  </tbody>\n",
       "</table>\n",
       "</div>"
      ],
      "text/plain": [
       "          userId  movieId  rating   timestamp\n",
       "2931672    19327      434     5.0   835459504\n",
       "12349078   79967    84954     2.0  1480815245"
      ]
     },
     "execution_count": 2,
     "metadata": {},
     "output_type": "execute_result"
    }
   ],
   "source": [
    "ratings_df = pd.read_csv('datasets/ml-25m/ratings.csv')\n",
    "ratings_df.sample(2)"
   ]
  },
  {
   "cell_type": "code",
   "execution_count": 3,
   "metadata": {},
   "outputs": [
    {
     "data": {
      "text/html": [
       "<div>\n",
       "<style scoped>\n",
       "    .dataframe tbody tr th:only-of-type {\n",
       "        vertical-align: middle;\n",
       "    }\n",
       "\n",
       "    .dataframe tbody tr th {\n",
       "        vertical-align: top;\n",
       "    }\n",
       "\n",
       "    .dataframe thead th {\n",
       "        text-align: right;\n",
       "    }\n",
       "</style>\n",
       "<table border=\"1\" class=\"dataframe\">\n",
       "  <thead>\n",
       "    <tr style=\"text-align: right;\">\n",
       "      <th></th>\n",
       "      <th>movieId</th>\n",
       "      <th>imdbId</th>\n",
       "      <th>tmdbId</th>\n",
       "    </tr>\n",
       "  </thead>\n",
       "  <tbody>\n",
       "    <tr>\n",
       "      <th>50174</th>\n",
       "      <td>180427</td>\n",
       "      <td>5716380</td>\n",
       "      <td>426260.0</td>\n",
       "    </tr>\n",
       "  </tbody>\n",
       "</table>\n",
       "</div>"
      ],
      "text/plain": [
       "       movieId   imdbId    tmdbId\n",
       "50174   180427  5716380  426260.0"
      ]
     },
     "execution_count": 3,
     "metadata": {},
     "output_type": "execute_result"
    }
   ],
   "source": [
    "links = pd.read_csv('datasets/ml-25m/links.csv')\n",
    "links.sample(1)"
   ]
  },
  {
   "cell_type": "markdown",
   "metadata": {},
   "source": [
    "Replace rating's movieId with the tmdbId and drop NA"
   ]
  },
  {
   "cell_type": "code",
   "execution_count": 4,
   "metadata": {},
   "outputs": [
    {
     "data": {
      "text/html": [
       "<div>\n",
       "<style scoped>\n",
       "    .dataframe tbody tr th:only-of-type {\n",
       "        vertical-align: middle;\n",
       "    }\n",
       "\n",
       "    .dataframe tbody tr th {\n",
       "        vertical-align: top;\n",
       "    }\n",
       "\n",
       "    .dataframe thead th {\n",
       "        text-align: right;\n",
       "    }\n",
       "</style>\n",
       "<table border=\"1\" class=\"dataframe\">\n",
       "  <thead>\n",
       "    <tr style=\"text-align: right;\">\n",
       "      <th></th>\n",
       "      <th>userId</th>\n",
       "      <th>tmdbId</th>\n",
       "      <th>rating</th>\n",
       "      <th>timestamp</th>\n",
       "    </tr>\n",
       "  </thead>\n",
       "  <tbody>\n",
       "    <tr>\n",
       "      <th>14283833</th>\n",
       "      <td>92493</td>\n",
       "      <td>13853</td>\n",
       "      <td>2.0</td>\n",
       "      <td>1038113713</td>\n",
       "    </tr>\n",
       "    <tr>\n",
       "      <th>10121474</th>\n",
       "      <td>65658</td>\n",
       "      <td>161</td>\n",
       "      <td>4.5</td>\n",
       "      <td>1156164052</td>\n",
       "    </tr>\n",
       "  </tbody>\n",
       "</table>\n",
       "</div>"
      ],
      "text/plain": [
       "          userId  tmdbId  rating   timestamp\n",
       "14283833   92493   13853     2.0  1038113713\n",
       "10121474   65658     161     4.5  1156164052"
      ]
     },
     "execution_count": 4,
     "metadata": {},
     "output_type": "execute_result"
    }
   ],
   "source": [
    "ratings = ratings_df.merge(links, on='movieId', how='left').drop(['imdbId', 'movieId'], axis=1)\n",
    "ratings.dropna(subset=['tmdbId'], inplace=True)\n",
    "ratings['tmdbId'] = ratings['tmdbId'].astype(int)\n",
    "ratings = ratings[['userId', 'tmdbId', 'rating','timestamp']]\n",
    "ratings.sample(2)"
   ]
  },
  {
   "cell_type": "code",
   "execution_count": 5,
   "metadata": {},
   "outputs": [
    {
     "data": {
      "text/html": [
       "<div>\n",
       "<style scoped>\n",
       "    .dataframe tbody tr th:only-of-type {\n",
       "        vertical-align: middle;\n",
       "    }\n",
       "\n",
       "    .dataframe tbody tr th {\n",
       "        vertical-align: top;\n",
       "    }\n",
       "\n",
       "    .dataframe thead th {\n",
       "        text-align: right;\n",
       "    }\n",
       "</style>\n",
       "<table border=\"1\" class=\"dataframe\">\n",
       "  <thead>\n",
       "    <tr style=\"text-align: right;\">\n",
       "      <th></th>\n",
       "      <th>adult</th>\n",
       "      <th>backdrop_path</th>\n",
       "      <th>id</th>\n",
       "      <th>original_language</th>\n",
       "      <th>overview</th>\n",
       "      <th>popularity</th>\n",
       "      <th>poster_path</th>\n",
       "      <th>release_date</th>\n",
       "      <th>title</th>\n",
       "      <th>vote_average</th>\n",
       "      <th>vote_count</th>\n",
       "      <th>genres</th>\n",
       "      <th>year</th>\n",
       "      <th>imdb_id</th>\n",
       "      <th>revenue</th>\n",
       "      <th>production_companies</th>\n",
       "      <th>cast</th>\n",
       "      <th>director</th>\n",
       "      <th>tagline</th>\n",
       "      <th>keywords</th>\n",
       "    </tr>\n",
       "  </thead>\n",
       "  <tbody>\n",
       "    <tr>\n",
       "      <th>4708</th>\n",
       "      <td>False</td>\n",
       "      <td>/iHc14vucwUMl6WuvQa4iPfoEdy9.jpg</td>\n",
       "      <td>799546</td>\n",
       "      <td>en</td>\n",
       "      <td>A successful woman in New York City finds her ...</td>\n",
       "      <td>25.535</td>\n",
       "      <td>/e0vrbTmTf2ZcW5CIS9qJ8FDbsU9.jpg</td>\n",
       "      <td>2022-09-30</td>\n",
       "      <td>Luckiest Girl Alive</td>\n",
       "      <td>6.6</td>\n",
       "      <td>702</td>\n",
       "      <td>['Drama', 'Thriller', 'Mystery']</td>\n",
       "      <td>2022</td>\n",
       "      <td>tt4595186</td>\n",
       "      <td>0</td>\n",
       "      <td>['Orchard Farm Productions', 'Made Up Stories'...</td>\n",
       "      <td>[{'name': 'Mila Kunis', 'character': 'Ani Fane...</td>\n",
       "      <td>Mike Barker</td>\n",
       "      <td>NaN</td>\n",
       "      <td>[]</td>\n",
       "    </tr>\n",
       "  </tbody>\n",
       "</table>\n",
       "</div>"
      ],
      "text/plain": [
       "      adult                     backdrop_path      id original_language  \\\n",
       "4708  False  /iHc14vucwUMl6WuvQa4iPfoEdy9.jpg  799546                en   \n",
       "\n",
       "                                               overview  popularity  \\\n",
       "4708  A successful woman in New York City finds her ...      25.535   \n",
       "\n",
       "                           poster_path release_date                title  \\\n",
       "4708  /e0vrbTmTf2ZcW5CIS9qJ8FDbsU9.jpg   2022-09-30  Luckiest Girl Alive   \n",
       "\n",
       "      vote_average  vote_count                            genres  year  \\\n",
       "4708           6.6         702  ['Drama', 'Thriller', 'Mystery']  2022   \n",
       "\n",
       "        imdb_id  revenue                               production_companies  \\\n",
       "4708  tt4595186        0  ['Orchard Farm Productions', 'Made Up Stories'...   \n",
       "\n",
       "                                                   cast     director tagline  \\\n",
       "4708  [{'name': 'Mila Kunis', 'character': 'Ani Fane...  Mike Barker     NaN   \n",
       "\n",
       "     keywords  \n",
       "4708       []  "
      ]
     },
     "execution_count": 5,
     "metadata": {},
     "output_type": "execute_result"
    }
   ],
   "source": [
    "movies = pd.read_csv(\"datasets/mine/top_voted_movies.csv\")\n",
    "movies.sample(1)"
   ]
  },
  {
   "cell_type": "markdown",
   "metadata": {},
   "source": [
    "Remove ratings that are not in my movies"
   ]
  },
  {
   "cell_type": "code",
   "execution_count": 6,
   "metadata": {},
   "outputs": [],
   "source": [
    "ratings = ratings[ratings['tmdbId'].isin(movies['id'])]"
   ]
  },
  {
   "cell_type": "code",
   "execution_count": 8,
   "metadata": {},
   "outputs": [
    {
     "data": {
      "text/html": [
       "<div>\n",
       "<style scoped>\n",
       "    .dataframe tbody tr th:only-of-type {\n",
       "        vertical-align: middle;\n",
       "    }\n",
       "\n",
       "    .dataframe tbody tr th {\n",
       "        vertical-align: top;\n",
       "    }\n",
       "\n",
       "    .dataframe thead th {\n",
       "        text-align: right;\n",
       "    }\n",
       "</style>\n",
       "<table border=\"1\" class=\"dataframe\">\n",
       "  <thead>\n",
       "    <tr style=\"text-align: right;\">\n",
       "      <th></th>\n",
       "      <th>userId</th>\n",
       "      <th>tmdbId</th>\n",
       "      <th>rating</th>\n",
       "      <th>timestamp</th>\n",
       "    </tr>\n",
       "  </thead>\n",
       "  <tbody>\n",
       "    <tr>\n",
       "      <th>21125705</th>\n",
       "      <td>137285</td>\n",
       "      <td>782</td>\n",
       "      <td>3.0</td>\n",
       "      <td>966576816</td>\n",
       "    </tr>\n",
       "  </tbody>\n",
       "</table>\n",
       "</div>"
      ],
      "text/plain": [
       "          userId  tmdbId  rating  timestamp\n",
       "21125705  137285     782     3.0  966576816"
      ]
     },
     "execution_count": 8,
     "metadata": {},
     "output_type": "execute_result"
    }
   ],
   "source": [
    "ratings.sample(1)"
   ]
  },
  {
   "cell_type": "code",
   "execution_count": 7,
   "metadata": {},
   "outputs": [],
   "source": [
    "ratings.to_csv('datasets/ml-25m/ratings_tmdb.csv', index=False)"
   ]
  }
 ],
 "metadata": {
  "kernelspec": {
   "display_name": "notebooks_env",
   "language": "python",
   "name": "notebooks_env"
  },
  "language_info": {
   "codemirror_mode": {
    "name": "ipython",
    "version": 3
   },
   "file_extension": ".py",
   "mimetype": "text/x-python",
   "name": "python",
   "nbconvert_exporter": "python",
   "pygments_lexer": "ipython3",
   "version": "3.9.17"
  },
  "orig_nbformat": 4
 },
 "nbformat": 4,
 "nbformat_minor": 2
}
