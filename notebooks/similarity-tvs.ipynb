{
 "cells": [
  {
   "cell_type": "code",
   "execution_count": 57,
   "metadata": {},
   "outputs": [],
   "source": [
    "import pandas as pd\n",
    "import json\n",
    "import numpy as np\n",
    "import requests\n",
    "import sklearn\n",
    "\n",
    "# Parse the stringified features into their corresponding python objects\n",
    "from ast import literal_eval\n"
   ]
  },
  {
   "cell_type": "code",
   "execution_count": 58,
   "metadata": {},
   "outputs": [
    {
     "data": {
      "text/html": [
       "<div>\n",
       "<style scoped>\n",
       "    .dataframe tbody tr th:only-of-type {\n",
       "        vertical-align: middle;\n",
       "    }\n",
       "\n",
       "    .dataframe tbody tr th {\n",
       "        vertical-align: top;\n",
       "    }\n",
       "\n",
       "    .dataframe thead th {\n",
       "        text-align: right;\n",
       "    }\n",
       "</style>\n",
       "<table border=\"1\" class=\"dataframe\">\n",
       "  <thead>\n",
       "    <tr style=\"text-align: right;\">\n",
       "      <th></th>\n",
       "      <th>backdrop_path</th>\n",
       "      <th>first_air_date</th>\n",
       "      <th>id</th>\n",
       "      <th>name</th>\n",
       "      <th>origin_country</th>\n",
       "      <th>original_language</th>\n",
       "      <th>overview</th>\n",
       "      <th>popularity</th>\n",
       "      <th>poster_path</th>\n",
       "      <th>vote_average</th>\n",
       "      <th>vote_count</th>\n",
       "      <th>genres</th>\n",
       "      <th>year</th>\n",
       "      <th>production_companies</th>\n",
       "      <th>networks</th>\n",
       "      <th>cast</th>\n",
       "      <th>creators</th>\n",
       "      <th>keywords</th>\n",
       "    </tr>\n",
       "  </thead>\n",
       "  <tbody>\n",
       "    <tr>\n",
       "      <th>0</th>\n",
       "      <td>/9faGSFi5jam6pDWGNd0p8JcJgXQ.jpg</td>\n",
       "      <td>2008-01-20</td>\n",
       "      <td>1396</td>\n",
       "      <td>Breaking Bad</td>\n",
       "      <td>['US']</td>\n",
       "      <td>en</td>\n",
       "      <td>When Walter White, a New Mexico chemistry teac...</td>\n",
       "      <td>362.838</td>\n",
       "      <td>/dY2FtSKXFCvutAHNgYax27oqwqX.jpg</td>\n",
       "      <td>8.9</td>\n",
       "      <td>12189</td>\n",
       "      <td>['Drama', 'Crime']</td>\n",
       "      <td>2008.0</td>\n",
       "      <td>['Sony Pictures Television Studios', 'High Bri...</td>\n",
       "      <td>['Sony Pictures Television Studios', 'High Bri...</td>\n",
       "      <td>[{'name': 'Bryan Cranston', 'character': 'Walt...</td>\n",
       "      <td>['Vince Gilligan']</td>\n",
       "      <td>['drug dealer', 'psychopath', 'new mexico', 't...</td>\n",
       "    </tr>\n",
       "    <tr>\n",
       "      <th>1</th>\n",
       "      <td>/rkB4LyZHo1NHXFEDHl9vSD9r1lI.jpg</td>\n",
       "      <td>2021-11-06</td>\n",
       "      <td>94605</td>\n",
       "      <td>Arcane</td>\n",
       "      <td>['US']</td>\n",
       "      <td>en</td>\n",
       "      <td>Amid the stark discord of twin cities Piltover...</td>\n",
       "      <td>63.546</td>\n",
       "      <td>/xS9hcajmOqwLUwXblCrPk2lfz4s.jpg</td>\n",
       "      <td>8.7</td>\n",
       "      <td>3260</td>\n",
       "      <td>['Animation', 'Drama', 'Sci-Fi &amp; Fantasy', 'Ac...</td>\n",
       "      <td>2021.0</td>\n",
       "      <td>['Fortiche Production', 'Riot Games']</td>\n",
       "      <td>['Fortiche Production', 'Riot Games']</td>\n",
       "      <td>[{'name': 'Hailee Steinfeld', 'character': 'Vi...</td>\n",
       "      <td>['Christian Linke', 'Alex Yee']</td>\n",
       "      <td>['magic', 'female friendship', 'battle', 'base...</td>\n",
       "    </tr>\n",
       "  </tbody>\n",
       "</table>\n",
       "</div>"
      ],
      "text/plain": [
       "                      backdrop_path first_air_date     id          name  \\\n",
       "0  /9faGSFi5jam6pDWGNd0p8JcJgXQ.jpg     2008-01-20   1396  Breaking Bad   \n",
       "1  /rkB4LyZHo1NHXFEDHl9vSD9r1lI.jpg     2021-11-06  94605        Arcane   \n",
       "\n",
       "  origin_country original_language  \\\n",
       "0         ['US']                en   \n",
       "1         ['US']                en   \n",
       "\n",
       "                                            overview  popularity  \\\n",
       "0  When Walter White, a New Mexico chemistry teac...     362.838   \n",
       "1  Amid the stark discord of twin cities Piltover...      63.546   \n",
       "\n",
       "                        poster_path  vote_average  vote_count  \\\n",
       "0  /dY2FtSKXFCvutAHNgYax27oqwqX.jpg           8.9       12189   \n",
       "1  /xS9hcajmOqwLUwXblCrPk2lfz4s.jpg           8.7        3260   \n",
       "\n",
       "                                              genres    year  \\\n",
       "0                                 ['Drama', 'Crime']  2008.0   \n",
       "1  ['Animation', 'Drama', 'Sci-Fi & Fantasy', 'Ac...  2021.0   \n",
       "\n",
       "                                production_companies  \\\n",
       "0  ['Sony Pictures Television Studios', 'High Bri...   \n",
       "1              ['Fortiche Production', 'Riot Games']   \n",
       "\n",
       "                                            networks  \\\n",
       "0  ['Sony Pictures Television Studios', 'High Bri...   \n",
       "1              ['Fortiche Production', 'Riot Games']   \n",
       "\n",
       "                                                cast  \\\n",
       "0  [{'name': 'Bryan Cranston', 'character': 'Walt...   \n",
       "1  [{'name': 'Hailee Steinfeld', 'character': 'Vi...   \n",
       "\n",
       "                          creators  \\\n",
       "0               ['Vince Gilligan']   \n",
       "1  ['Christian Linke', 'Alex Yee']   \n",
       "\n",
       "                                            keywords  \n",
       "0  ['drug dealer', 'psychopath', 'new mexico', 't...  \n",
       "1  ['magic', 'female friendship', 'battle', 'base...  "
      ]
     },
     "execution_count": 58,
     "metadata": {},
     "output_type": "execute_result"
    }
   ],
   "source": [
    "tvs = pd.read_csv('datasets/mine/top_voted_tvs.csv')\n",
    "tvs.head(2)"
   ]
  },
  {
   "cell_type": "code",
   "execution_count": null,
   "metadata": {},
   "outputs": [],
   "source": []
  },
  {
   "cell_type": "code",
   "execution_count": 59,
   "metadata": {},
   "outputs": [],
   "source": [
    "def clean_data(x):\n",
    "    if isinstance(x, list):\n",
    "        return [str.lower(i.replace(\" \", \"\")) for i in x]\n",
    "    else:\n",
    "        if isinstance(x, str):\n",
    "            return str.lower(x.replace(\" \", \"\"))\n",
    "        else:\n",
    "            return ''\n",
    "\n",
    "def extract_cast_names(entries_str):\n",
    "    entries = literal_eval(entries_str)\n",
    "    return [entry['name'] for entry in entries[:5]]"
   ]
  },
  {
   "cell_type": "code",
   "execution_count": 60,
   "metadata": {},
   "outputs": [],
   "source": [
    "features = ['cast', 'creators', 'keywords', 'genres', 'production_companies', 'networks']\n",
    "df2 = tvs.copy()[ features]\n",
    "\n",
    "df2['cast'] = df2['cast'].apply(extract_cast_names) # extract cast names\n"
   ]
  },
  {
   "cell_type": "code",
   "execution_count": 61,
   "metadata": {},
   "outputs": [],
   "source": [
    "for feature in features:\n",
    "    df2[feature] = df2[feature].apply(clean_data)"
   ]
  },
  {
   "cell_type": "code",
   "execution_count": 62,
   "metadata": {},
   "outputs": [
    {
     "data": {
      "text/plain": [
       "['haileesteinfeld', 'kevinalejandro', 'jasonspisak']"
      ]
     },
     "execution_count": 62,
     "metadata": {},
     "output_type": "execute_result"
    }
   ],
   "source": [
    "df2.iloc[1]['cast']"
   ]
  },
  {
   "cell_type": "markdown",
   "metadata": {},
   "source": [
    "Creating a \"soup\" of the selected metadata\n",
    "Also - give the director 3 times weight in the soup"
   ]
  },
  {
   "cell_type": "code",
   "execution_count": 63,
   "metadata": {},
   "outputs": [],
   "source": [
    "from ast import literal_eval\n",
    "\n",
    "df2['soup'] = df2['creators'].apply(literal_eval).apply(lambda x: x * 2) + \\\n",
    "        df2['keywords'].apply(literal_eval) + \\\n",
    "        df2['genres'].apply(literal_eval) + \\\n",
    "        df2['production_companies'].apply(literal_eval) + \\\n",
    "        df2['cast']   \n",
    "\n",
    "df2['soup'] = df2['soup'].apply(lambda x: ' '.join(x))   "
   ]
  },
  {
   "cell_type": "markdown",
   "metadata": {},
   "source": [
    "Not using TF-IDF beacause it might eliminate creators/cast that played in multiple movies"
   ]
  },
  {
   "cell_type": "code",
   "execution_count": 64,
   "metadata": {},
   "outputs": [],
   "source": [
    "from sklearn.feature_extraction.text import CountVectorizer\n",
    "\n",
    "count = CountVectorizer(stop_words='english')\n",
    "count_matrix = count.fit_transform(df2['soup'])"
   ]
  },
  {
   "cell_type": "code",
   "execution_count": 65,
   "metadata": {},
   "outputs": [],
   "source": [
    "# Compute the Cosine Similarity matrix based on the count_matrix\n",
    "from sklearn.metrics.pairwise import cosine_similarity\n",
    "\n",
    "cosine_sim2 = cosine_similarity(count_matrix, count_matrix)"
   ]
  },
  {
   "cell_type": "code",
   "execution_count": 66,
   "metadata": {},
   "outputs": [],
   "source": [
    "\n",
    "title_to_id = pd.Series(tvs.index, index=tvs['name'])"
   ]
  },
  {
   "cell_type": "code",
   "execution_count": 67,
   "metadata": {},
   "outputs": [],
   "source": [
    "id_to_index = pd.Series(tvs.index, index=tvs['id'])"
   ]
  },
  {
   "cell_type": "code",
   "execution_count": 68,
   "metadata": {},
   "outputs": [],
   "source": [
    "# Function that takes in movie title as input and outputs most similar movies\n",
    "def get_recommendations_by_title(title, cosine_similarity=cosine_similarity):\n",
    "    # Get the index of the movie that matches the title\n",
    "    idx = title_to_id[title]\n",
    "\n",
    "    # Get the pairwsie similarity scores of all movies with that movie\n",
    "    similarity_scores = list(enumerate(cosine_similarity[idx]))\n",
    "\n",
    "    # Sort the movies based on the similarity scores\n",
    "    similarity_scores = sorted(similarity_scores, key=lambda x: x[1], reverse=True)\n",
    "\n",
    "    # Get the scores of the 10 most similar movies\n",
    "    similarity_scores = similarity_scores[1:15]\n",
    "\n",
    "    # Get the movie indices\n",
    "    movie_indices = [i[0] for i in similarity_scores]\n",
    "\n",
    "    # Return the top 15 most similar movies\n",
    "    return tvs['name'].iloc[movie_indices]"
   ]
  },
  {
   "cell_type": "code",
   "execution_count": 69,
   "metadata": {},
   "outputs": [
    {
     "data": {
      "text/plain": [
       "2270                          Dead Set\n",
       "2265                 Masters of Horror\n",
       "80                       Shadow Hunter\n",
       "1237                  The Outer Limits\n",
       "1651                 The Twilight Zone\n",
       "1076           American Horror Stories\n",
       "1096                        Goosebumps\n",
       "2527                             Awake\n",
       "2659                             Solos\n",
       "1735                         Creepshow\n",
       "2428                             Calls\n",
       "2662    Penny Dreadful: City of Angels\n",
       "1000              Tales from the Crypt\n",
       "229                  The Twilight Zone\n",
       "Name: name, dtype: object"
      ]
     },
     "execution_count": 69,
     "metadata": {},
     "output_type": "execute_result"
    }
   ],
   "source": [
    "rec = get_recommendations_by_title('Black Mirror', cosine_sim2)\n",
    "rec"
   ]
  },
  {
   "cell_type": "code",
   "execution_count": 70,
   "metadata": {},
   "outputs": [],
   "source": [
    "def get_recommendations_by_id(id, cosine_similarity=cosine_similarity):\n",
    "    # Get the index of the movie that matches the title\n",
    "    idx = id_to_index[id]\n",
    "\n",
    "    # Get the pairwsie similarity scores of all movies with that movie\n",
    "    similarity_scores = list(enumerate(cosine_similarity[idx]))\n",
    "\n",
    "    # Sort the movies based on the similarity scores\n",
    "    similarity_scores = sorted(similarity_scores, key=lambda x: x[1], reverse=True)\n",
    "\n",
    "    # Get the scores of the 10 most similar movies\n",
    "    similarity_scores = similarity_scores[1:11]\n",
    "\n",
    "    # Get the movie indices\n",
    "    movies_idx = [i[0] for i in similarity_scores]\n",
    "\n",
    "    # Return the top 10 most similar movies\n",
    "    return tvs['id'].iloc[movies_idx]"
   ]
  },
  {
   "cell_type": "code",
   "execution_count": 71,
   "metadata": {},
   "outputs": [
    {
     "data": {
      "text/plain": [
       "backdrop_path                            /iZu83GB1IM7VXL2X90m7iLHYUHU.jpg\n",
       "first_air_date                                                 2018-09-24\n",
       "id                                                                  79696\n",
       "name                                                             Manifest\n",
       "origin_country                                                     ['US']\n",
       "original_language                                                      en\n",
       "overview                After landing from a turbulent but routine fli...\n",
       "popularity                                                        190.964\n",
       "poster_path                              /27ChAuQxC0sD4EoPiZpz9ddzju0.jpg\n",
       "vote_average                                                          7.7\n",
       "vote_count                                                           1270\n",
       "genres                           ['Drama', 'Mystery', 'Sci-Fi & Fantasy']\n",
       "year                                                               2018.0\n",
       "production_companies    ['Warner Bros. Television', 'Compari Entertain...\n",
       "networks                ['Warner Bros. Television', 'Compari Entertain...\n",
       "cast                    [{'name': 'Melissa Roxburgh', 'character': 'Mi...\n",
       "creators                                                    ['Jeff Rake']\n",
       "keywords                ['new york city', 'investigation', 'time trave...\n",
       "Name: 1449, dtype: object"
      ]
     },
     "execution_count": 71,
     "metadata": {},
     "output_type": "execute_result"
    }
   ],
   "source": [
    "tvs.iloc[title_to_id['Manifest']]"
   ]
  },
  {
   "cell_type": "code",
   "execution_count": 72,
   "metadata": {},
   "outputs": [
    {
     "data": {
      "text/plain": [
       "1020    81322\n",
       "1379    60726\n",
       "1357    64464\n",
       "80      12313\n",
       "711      3137\n",
       "2343    85703\n",
       "988     32871\n",
       "1775      433\n",
       "1847    79240\n",
       "2140     5690\n",
       "Name: id, dtype: int64"
      ]
     },
     "execution_count": 72,
     "metadata": {},
     "output_type": "execute_result"
    }
   ],
   "source": [
    "rec = get_recommendations_by_id(79696, cosine_sim2)\n",
    "rec"
   ]
  },
  {
   "cell_type": "code",
   "execution_count": 73,
   "metadata": {},
   "outputs": [
    {
     "data": {
      "text/plain": [
       "[81322, 60726, 64464, 12313, 3137, 85703, 32871, 433, 79240, 5690]"
      ]
     },
     "execution_count": 73,
     "metadata": {},
     "output_type": "execute_result"
    }
   ],
   "source": [
    "rec.to_list()"
   ]
  },
  {
   "cell_type": "markdown",
   "metadata": {},
   "source": [
    "export cosine similarity"
   ]
  },
  {
   "cell_type": "code",
   "execution_count": 74,
   "metadata": {},
   "outputs": [
    {
     "data": {
      "text/plain": [
       "id\n",
       "1396        0\n",
       "94605       1\n",
       "37854       2\n",
       "31911       3\n",
       "60625       4\n",
       "         ... \n",
       "987      2955\n",
       "4551     2956\n",
       "62223    2957\n",
       "16089    2958\n",
       "90755    2959\n",
       "Length: 2960, dtype: int64"
      ]
     },
     "execution_count": 74,
     "metadata": {},
     "output_type": "execute_result"
    }
   ],
   "source": [
    "id_to_index"
   ]
  },
  {
   "cell_type": "code",
   "execution_count": 75,
   "metadata": {},
   "outputs": [],
   "source": [
    "import pickle\n",
    "\n",
    "with open('similarity_matrix_tvs.pkl', 'wb') as f1:\n",
    "    pickle.dump(cosine_sim2, f1)\n",
    "\n",
    "with open('tv_id_to_matrix_similarity_idx.pkl', 'wb') as f2:\n",
    "    pickle.dump(id_to_index, f2)"
   ]
  }
 ],
 "metadata": {
  "kernelspec": {
   "display_name": "Python 3.9.17 ('notebooks_env')",
   "language": "python",
   "name": "python3"
  },
  "language_info": {
   "codemirror_mode": {
    "name": "ipython",
    "version": 3
   },
   "file_extension": ".py",
   "mimetype": "text/x-python",
   "name": "python",
   "nbconvert_exporter": "python",
   "pygments_lexer": "ipython3",
   "version": "3.9.17"
  },
  "orig_nbformat": 4,
  "vscode": {
   "interpreter": {
    "hash": "cabdfcec0fd6c6e7069b723be7f473a1f72caf0bf2081b3f69322c913df461e3"
   }
  }
 },
 "nbformat": 4,
 "nbformat_minor": 2
}
