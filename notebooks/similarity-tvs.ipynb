{
 "cells": [
  {
   "cell_type": "code",
   "execution_count": 1,
   "metadata": {},
   "outputs": [],
   "source": [
    "import pandas as pd\n",
    "import json\n",
    "import numpy as np\n",
    "import requests\n",
    "import sklearn\n",
    "\n",
    "# Parse the stringified features into their corresponding python objects\n",
    "from ast import literal_eval\n"
   ]
  },
  {
   "cell_type": "code",
   "execution_count": 3,
   "metadata": {},
   "outputs": [
    {
     "data": {
      "text/html": [
       "<div>\n",
       "<style scoped>\n",
       "    .dataframe tbody tr th:only-of-type {\n",
       "        vertical-align: middle;\n",
       "    }\n",
       "\n",
       "    .dataframe tbody tr th {\n",
       "        vertical-align: top;\n",
       "    }\n",
       "\n",
       "    .dataframe thead th {\n",
       "        text-align: right;\n",
       "    }\n",
       "</style>\n",
       "<table border=\"1\" class=\"dataframe\">\n",
       "  <thead>\n",
       "    <tr style=\"text-align: right;\">\n",
       "      <th></th>\n",
       "      <th>backdrop_path</th>\n",
       "      <th>first_air_date</th>\n",
       "      <th>id</th>\n",
       "      <th>name</th>\n",
       "      <th>origin_country</th>\n",
       "      <th>original_language</th>\n",
       "      <th>overview</th>\n",
       "      <th>popularity</th>\n",
       "      <th>poster_path</th>\n",
       "      <th>vote_average</th>\n",
       "      <th>vote_count</th>\n",
       "      <th>genres</th>\n",
       "      <th>year</th>\n",
       "      <th>production_companies</th>\n",
       "      <th>networks</th>\n",
       "      <th>cast</th>\n",
       "      <th>creators</th>\n",
       "      <th>keywords</th>\n",
       "    </tr>\n",
       "  </thead>\n",
       "  <tbody>\n",
       "    <tr>\n",
       "      <th>0</th>\n",
       "      <td>/9faGSFi5jam6pDWGNd0p8JcJgXQ.jpg</td>\n",
       "      <td>2008-01-20</td>\n",
       "      <td>1396</td>\n",
       "      <td>Breaking Bad</td>\n",
       "      <td>['US']</td>\n",
       "      <td>en</td>\n",
       "      <td>When Walter White, a New Mexico chemistry teac...</td>\n",
       "      <td>362.838</td>\n",
       "      <td>/dY2FtSKXFCvutAHNgYax27oqwqX.jpg</td>\n",
       "      <td>8.9</td>\n",
       "      <td>12189</td>\n",
       "      <td>['Drama', 'Crime']</td>\n",
       "      <td>2008.0</td>\n",
       "      <td>['Sony Pictures Television Studios', 'High Bri...</td>\n",
       "      <td>['Sony Pictures Television Studios', 'High Bri...</td>\n",
       "      <td>[{'name': 'Bryan Cranston', 'character': 'Walt...</td>\n",
       "      <td>['Vince Gilligan']</td>\n",
       "      <td>['drug dealer', 'psychopath', 'new mexico', 't...</td>\n",
       "    </tr>\n",
       "    <tr>\n",
       "      <th>1</th>\n",
       "      <td>/rkB4LyZHo1NHXFEDHl9vSD9r1lI.jpg</td>\n",
       "      <td>2021-11-06</td>\n",
       "      <td>94605</td>\n",
       "      <td>Arcane</td>\n",
       "      <td>['US']</td>\n",
       "      <td>en</td>\n",
       "      <td>Amid the stark discord of twin cities Piltover...</td>\n",
       "      <td>63.546</td>\n",
       "      <td>/xS9hcajmOqwLUwXblCrPk2lfz4s.jpg</td>\n",
       "      <td>8.7</td>\n",
       "      <td>3260</td>\n",
       "      <td>['Animation', 'Drama', 'Sci-Fi &amp; Fantasy', 'Ac...</td>\n",
       "      <td>2021.0</td>\n",
       "      <td>['Fortiche Production', 'Riot Games']</td>\n",
       "      <td>['Fortiche Production', 'Riot Games']</td>\n",
       "      <td>[{'name': 'Hailee Steinfeld', 'character': 'Vi...</td>\n",
       "      <td>['Christian Linke', 'Alex Yee']</td>\n",
       "      <td>['magic', 'female friendship', 'battle', 'base...</td>\n",
       "    </tr>\n",
       "  </tbody>\n",
       "</table>\n",
       "</div>"
      ],
      "text/plain": [
       "                      backdrop_path first_air_date     id          name  \\\n",
       "0  /9faGSFi5jam6pDWGNd0p8JcJgXQ.jpg     2008-01-20   1396  Breaking Bad   \n",
       "1  /rkB4LyZHo1NHXFEDHl9vSD9r1lI.jpg     2021-11-06  94605        Arcane   \n",
       "\n",
       "  origin_country original_language  \\\n",
       "0         ['US']                en   \n",
       "1         ['US']                en   \n",
       "\n",
       "                                            overview  popularity  \\\n",
       "0  When Walter White, a New Mexico chemistry teac...     362.838   \n",
       "1  Amid the stark discord of twin cities Piltover...      63.546   \n",
       "\n",
       "                        poster_path  vote_average  vote_count  \\\n",
       "0  /dY2FtSKXFCvutAHNgYax27oqwqX.jpg           8.9       12189   \n",
       "1  /xS9hcajmOqwLUwXblCrPk2lfz4s.jpg           8.7        3260   \n",
       "\n",
       "                                              genres    year  \\\n",
       "0                                 ['Drama', 'Crime']  2008.0   \n",
       "1  ['Animation', 'Drama', 'Sci-Fi & Fantasy', 'Ac...  2021.0   \n",
       "\n",
       "                                production_companies  \\\n",
       "0  ['Sony Pictures Television Studios', 'High Bri...   \n",
       "1              ['Fortiche Production', 'Riot Games']   \n",
       "\n",
       "                                            networks  \\\n",
       "0  ['Sony Pictures Television Studios', 'High Bri...   \n",
       "1              ['Fortiche Production', 'Riot Games']   \n",
       "\n",
       "                                                cast  \\\n",
       "0  [{'name': 'Bryan Cranston', 'character': 'Walt...   \n",
       "1  [{'name': 'Hailee Steinfeld', 'character': 'Vi...   \n",
       "\n",
       "                          creators  \\\n",
       "0               ['Vince Gilligan']   \n",
       "1  ['Christian Linke', 'Alex Yee']   \n",
       "\n",
       "                                            keywords  \n",
       "0  ['drug dealer', 'psychopath', 'new mexico', 't...  \n",
       "1  ['magic', 'female friendship', 'battle', 'base...  "
      ]
     },
     "execution_count": 3,
     "metadata": {},
     "output_type": "execute_result"
    }
   ],
   "source": [
    "tvs = pd.read_csv('datasets/mine/top_voted_tvs.csv')\n",
    "tvs.head(2)"
   ]
  },
  {
   "cell_type": "code",
   "execution_count": 4,
   "metadata": {},
   "outputs": [
    {
     "ename": "IntCastingNaNError",
     "evalue": "Cannot convert non-finite values (NA or inf) to integer",
     "output_type": "error",
     "traceback": [
      "\u001b[0;31m---------------------------------------------------------------------------\u001b[0m",
      "\u001b[0;31mIntCastingNaNError\u001b[0m                        Traceback (most recent call last)",
      "\u001b[1;32m/Users/itamar/dev/movies-recommender/notebooks/similarity-tvs.ipynb Cell 3'\u001b[0m in \u001b[0;36m<cell line: 1>\u001b[0;34m()\u001b[0m\n\u001b[0;32m----> <a href='vscode-notebook-cell:/Users/itamar/dev/movies-recommender/notebooks/similarity-tvs.ipynb#ch0000023?line=0'>1</a>\u001b[0m tvs[\u001b[39m'\u001b[39m\u001b[39myear\u001b[39m\u001b[39m'\u001b[39m] \u001b[39m=\u001b[39m tvs[\u001b[39m'\u001b[39;49m\u001b[39myear\u001b[39;49m\u001b[39m'\u001b[39;49m]\u001b[39m.\u001b[39;49mastype(\u001b[39mint\u001b[39;49m)\n",
      "File \u001b[0;32m~/anaconda3/envs/notebooks_env/lib/python3.9/site-packages/pandas/core/generic.py:5912\u001b[0m, in \u001b[0;36mNDFrame.astype\u001b[0;34m(self, dtype, copy, errors)\u001b[0m\n\u001b[1;32m   5905\u001b[0m     results \u001b[39m=\u001b[39m [\n\u001b[1;32m   5906\u001b[0m         \u001b[39mself\u001b[39m\u001b[39m.\u001b[39miloc[:, i]\u001b[39m.\u001b[39mastype(dtype, copy\u001b[39m=\u001b[39mcopy)\n\u001b[1;32m   5907\u001b[0m         \u001b[39mfor\u001b[39;00m i \u001b[39min\u001b[39;00m \u001b[39mrange\u001b[39m(\u001b[39mlen\u001b[39m(\u001b[39mself\u001b[39m\u001b[39m.\u001b[39mcolumns))\n\u001b[1;32m   5908\u001b[0m     ]\n\u001b[1;32m   5910\u001b[0m \u001b[39melse\u001b[39;00m:\n\u001b[1;32m   5911\u001b[0m     \u001b[39m# else, only a single dtype is given\u001b[39;00m\n\u001b[0;32m-> 5912\u001b[0m     new_data \u001b[39m=\u001b[39m \u001b[39mself\u001b[39;49m\u001b[39m.\u001b[39;49m_mgr\u001b[39m.\u001b[39;49mastype(dtype\u001b[39m=\u001b[39;49mdtype, copy\u001b[39m=\u001b[39;49mcopy, errors\u001b[39m=\u001b[39;49merrors)\n\u001b[1;32m   5913\u001b[0m     \u001b[39mreturn\u001b[39;00m \u001b[39mself\u001b[39m\u001b[39m.\u001b[39m_constructor(new_data)\u001b[39m.\u001b[39m__finalize__(\u001b[39mself\u001b[39m, method\u001b[39m=\u001b[39m\u001b[39m\"\u001b[39m\u001b[39mastype\u001b[39m\u001b[39m\"\u001b[39m)\n\u001b[1;32m   5915\u001b[0m \u001b[39m# GH 33113: handle empty frame or series\u001b[39;00m\n",
      "File \u001b[0;32m~/anaconda3/envs/notebooks_env/lib/python3.9/site-packages/pandas/core/internals/managers.py:419\u001b[0m, in \u001b[0;36mBaseBlockManager.astype\u001b[0;34m(self, dtype, copy, errors)\u001b[0m\n\u001b[1;32m    418\u001b[0m \u001b[39mdef\u001b[39;00m \u001b[39mastype\u001b[39m(\u001b[39mself\u001b[39m: T, dtype, copy: \u001b[39mbool\u001b[39m \u001b[39m=\u001b[39m \u001b[39mFalse\u001b[39;00m, errors: \u001b[39mstr\u001b[39m \u001b[39m=\u001b[39m \u001b[39m\"\u001b[39m\u001b[39mraise\u001b[39m\u001b[39m\"\u001b[39m) \u001b[39m-\u001b[39m\u001b[39m>\u001b[39m T:\n\u001b[0;32m--> 419\u001b[0m     \u001b[39mreturn\u001b[39;00m \u001b[39mself\u001b[39;49m\u001b[39m.\u001b[39;49mapply(\u001b[39m\"\u001b[39;49m\u001b[39mastype\u001b[39;49m\u001b[39m\"\u001b[39;49m, dtype\u001b[39m=\u001b[39;49mdtype, copy\u001b[39m=\u001b[39;49mcopy, errors\u001b[39m=\u001b[39;49merrors)\n",
      "File \u001b[0;32m~/anaconda3/envs/notebooks_env/lib/python3.9/site-packages/pandas/core/internals/managers.py:304\u001b[0m, in \u001b[0;36mBaseBlockManager.apply\u001b[0;34m(self, f, align_keys, ignore_failures, **kwargs)\u001b[0m\n\u001b[1;32m    302\u001b[0m         applied \u001b[39m=\u001b[39m b\u001b[39m.\u001b[39mapply(f, \u001b[39m*\u001b[39m\u001b[39m*\u001b[39mkwargs)\n\u001b[1;32m    303\u001b[0m     \u001b[39melse\u001b[39;00m:\n\u001b[0;32m--> 304\u001b[0m         applied \u001b[39m=\u001b[39m \u001b[39mgetattr\u001b[39;49m(b, f)(\u001b[39m*\u001b[39;49m\u001b[39m*\u001b[39;49mkwargs)\n\u001b[1;32m    305\u001b[0m \u001b[39mexcept\u001b[39;00m (\u001b[39mTypeError\u001b[39;00m, \u001b[39mNotImplementedError\u001b[39;00m):\n\u001b[1;32m    306\u001b[0m     \u001b[39mif\u001b[39;00m \u001b[39mnot\u001b[39;00m ignore_failures:\n",
      "File \u001b[0;32m~/anaconda3/envs/notebooks_env/lib/python3.9/site-packages/pandas/core/internals/blocks.py:580\u001b[0m, in \u001b[0;36mBlock.astype\u001b[0;34m(self, dtype, copy, errors)\u001b[0m\n\u001b[1;32m    562\u001b[0m \u001b[39m\"\"\"\u001b[39;00m\n\u001b[1;32m    563\u001b[0m \u001b[39mCoerce to the new dtype.\u001b[39;00m\n\u001b[1;32m    564\u001b[0m \n\u001b[0;32m   (...)\u001b[0m\n\u001b[1;32m    576\u001b[0m \u001b[39mBlock\u001b[39;00m\n\u001b[1;32m    577\u001b[0m \u001b[39m\"\"\"\u001b[39;00m\n\u001b[1;32m    578\u001b[0m values \u001b[39m=\u001b[39m \u001b[39mself\u001b[39m\u001b[39m.\u001b[39mvalues\n\u001b[0;32m--> 580\u001b[0m new_values \u001b[39m=\u001b[39m astype_array_safe(values, dtype, copy\u001b[39m=\u001b[39;49mcopy, errors\u001b[39m=\u001b[39;49merrors)\n\u001b[1;32m    582\u001b[0m new_values \u001b[39m=\u001b[39m maybe_coerce_values(new_values)\n\u001b[1;32m    583\u001b[0m newb \u001b[39m=\u001b[39m \u001b[39mself\u001b[39m\u001b[39m.\u001b[39mmake_block(new_values)\n",
      "File \u001b[0;32m~/anaconda3/envs/notebooks_env/lib/python3.9/site-packages/pandas/core/dtypes/cast.py:1292\u001b[0m, in \u001b[0;36mastype_array_safe\u001b[0;34m(values, dtype, copy, errors)\u001b[0m\n\u001b[1;32m   1289\u001b[0m     dtype \u001b[39m=\u001b[39m dtype\u001b[39m.\u001b[39mnumpy_dtype\n\u001b[1;32m   1291\u001b[0m \u001b[39mtry\u001b[39;00m:\n\u001b[0;32m-> 1292\u001b[0m     new_values \u001b[39m=\u001b[39m astype_array(values, dtype, copy\u001b[39m=\u001b[39;49mcopy)\n\u001b[1;32m   1293\u001b[0m \u001b[39mexcept\u001b[39;00m (\u001b[39mValueError\u001b[39;00m, \u001b[39mTypeError\u001b[39;00m):\n\u001b[1;32m   1294\u001b[0m     \u001b[39m# e.g. astype_nansafe can fail on object-dtype of strings\u001b[39;00m\n\u001b[1;32m   1295\u001b[0m     \u001b[39m#  trying to convert to float\u001b[39;00m\n\u001b[1;32m   1296\u001b[0m     \u001b[39mif\u001b[39;00m errors \u001b[39m==\u001b[39m \u001b[39m\"\u001b[39m\u001b[39mignore\u001b[39m\u001b[39m\"\u001b[39m:\n",
      "File \u001b[0;32m~/anaconda3/envs/notebooks_env/lib/python3.9/site-packages/pandas/core/dtypes/cast.py:1237\u001b[0m, in \u001b[0;36mastype_array\u001b[0;34m(values, dtype, copy)\u001b[0m\n\u001b[1;32m   1234\u001b[0m     values \u001b[39m=\u001b[39m values\u001b[39m.\u001b[39mastype(dtype, copy\u001b[39m=\u001b[39mcopy)\n\u001b[1;32m   1236\u001b[0m \u001b[39melse\u001b[39;00m:\n\u001b[0;32m-> 1237\u001b[0m     values \u001b[39m=\u001b[39m astype_nansafe(values, dtype, copy\u001b[39m=\u001b[39;49mcopy)\n\u001b[1;32m   1239\u001b[0m \u001b[39m# in pandas we don't store numpy str dtypes, so convert to object\u001b[39;00m\n\u001b[1;32m   1240\u001b[0m \u001b[39mif\u001b[39;00m \u001b[39misinstance\u001b[39m(dtype, np\u001b[39m.\u001b[39mdtype) \u001b[39mand\u001b[39;00m \u001b[39missubclass\u001b[39m(values\u001b[39m.\u001b[39mdtype\u001b[39m.\u001b[39mtype, \u001b[39mstr\u001b[39m):\n",
      "File \u001b[0;32m~/anaconda3/envs/notebooks_env/lib/python3.9/site-packages/pandas/core/dtypes/cast.py:1148\u001b[0m, in \u001b[0;36mastype_nansafe\u001b[0;34m(arr, dtype, copy, skipna)\u001b[0m\n\u001b[1;32m   1145\u001b[0m     \u001b[39mraise\u001b[39;00m \u001b[39mTypeError\u001b[39;00m(\u001b[39mf\u001b[39m\u001b[39m\"\u001b[39m\u001b[39mcannot astype a timedelta from [\u001b[39m\u001b[39m{\u001b[39;00marr\u001b[39m.\u001b[39mdtype\u001b[39m}\u001b[39;00m\u001b[39m] to [\u001b[39m\u001b[39m{\u001b[39;00mdtype\u001b[39m}\u001b[39;00m\u001b[39m]\u001b[39m\u001b[39m\"\u001b[39m)\n\u001b[1;32m   1147\u001b[0m \u001b[39melif\u001b[39;00m np\u001b[39m.\u001b[39missubdtype(arr\u001b[39m.\u001b[39mdtype, np\u001b[39m.\u001b[39mfloating) \u001b[39mand\u001b[39;00m np\u001b[39m.\u001b[39missubdtype(dtype, np\u001b[39m.\u001b[39minteger):\n\u001b[0;32m-> 1148\u001b[0m     \u001b[39mreturn\u001b[39;00m astype_float_to_int_nansafe(arr, dtype, copy)\n\u001b[1;32m   1150\u001b[0m \u001b[39melif\u001b[39;00m is_object_dtype(arr\u001b[39m.\u001b[39mdtype):\n\u001b[1;32m   1151\u001b[0m \n\u001b[1;32m   1152\u001b[0m     \u001b[39m# work around NumPy brokenness, #1987\u001b[39;00m\n\u001b[1;32m   1153\u001b[0m     \u001b[39mif\u001b[39;00m np\u001b[39m.\u001b[39missubdtype(dtype\u001b[39m.\u001b[39mtype, np\u001b[39m.\u001b[39minteger):\n",
      "File \u001b[0;32m~/anaconda3/envs/notebooks_env/lib/python3.9/site-packages/pandas/core/dtypes/cast.py:1193\u001b[0m, in \u001b[0;36mastype_float_to_int_nansafe\u001b[0;34m(values, dtype, copy)\u001b[0m\n\u001b[1;32m   1189\u001b[0m \u001b[39m\"\"\"\u001b[39;00m\n\u001b[1;32m   1190\u001b[0m \u001b[39mastype with a check preventing converting NaN to an meaningless integer value.\u001b[39;00m\n\u001b[1;32m   1191\u001b[0m \u001b[39m\"\"\"\u001b[39;00m\n\u001b[1;32m   1192\u001b[0m \u001b[39mif\u001b[39;00m \u001b[39mnot\u001b[39;00m np\u001b[39m.\u001b[39misfinite(values)\u001b[39m.\u001b[39mall():\n\u001b[0;32m-> 1193\u001b[0m     \u001b[39mraise\u001b[39;00m IntCastingNaNError(\n\u001b[1;32m   1194\u001b[0m         \u001b[39m\"\u001b[39m\u001b[39mCannot convert non-finite values (NA or inf) to integer\u001b[39m\u001b[39m\"\u001b[39m\n\u001b[1;32m   1195\u001b[0m     )\n\u001b[1;32m   1196\u001b[0m \u001b[39mreturn\u001b[39;00m values\u001b[39m.\u001b[39mastype(dtype, copy\u001b[39m=\u001b[39mcopy)\n",
      "\u001b[0;31mIntCastingNaNError\u001b[0m: Cannot convert non-finite values (NA or inf) to integer"
     ]
    }
   ],
   "source": []
  },
  {
   "cell_type": "code",
   "execution_count": 5,
   "metadata": {},
   "outputs": [],
   "source": [
    "def clean_data(x):\n",
    "    if isinstance(x, list):\n",
    "        return [str.lower(i.replace(\" \", \"\")) for i in x]\n",
    "    else:\n",
    "        if isinstance(x, str):\n",
    "            return str.lower(x.replace(\" \", \"\"))\n",
    "        else:\n",
    "            return ''\n",
    "\n",
    "def extract_cast_names(entries_str):\n",
    "    entries = literal_eval(entries_str)\n",
    "    return [entry['name'] for entry in entries[:5]]"
   ]
  },
  {
   "cell_type": "code",
   "execution_count": 6,
   "metadata": {},
   "outputs": [],
   "source": [
    "features = ['cast', 'creators', 'keywords', 'genres', 'production_companies', 'networks']\n",
    "df2 = tvs.copy()[ features]\n",
    "\n",
    "df2['cast'] = df2['cast'].apply(extract_cast_names) # extract cast names\n"
   ]
  },
  {
   "cell_type": "code",
   "execution_count": 7,
   "metadata": {},
   "outputs": [],
   "source": [
    "for feature in features:\n",
    "    df2[feature] = df2[feature].apply(clean_data)"
   ]
  },
  {
   "cell_type": "code",
   "execution_count": 8,
   "metadata": {},
   "outputs": [
    {
     "data": {
      "text/plain": [
       "['haileesteinfeld', 'kevinalejandro', 'jasonspisak']"
      ]
     },
     "execution_count": 8,
     "metadata": {},
     "output_type": "execute_result"
    }
   ],
   "source": [
    "df2.iloc[1]['cast']"
   ]
  },
  {
   "cell_type": "code",
   "execution_count": 9,
   "metadata": {},
   "outputs": [
    {
     "data": {
      "text/plain": [
       "0                     ['vincegilligan']\n",
       "1          ['christianlinke','alexyee']\n",
       "2                                    []\n",
       "3                                    []\n",
       "4         ['danharmon','justinroiland']\n",
       "                     ...               \n",
       "2955    ['dorishursley','frankhursley']\n",
       "2956                     ['kenwarwick']\n",
       "2957                                 []\n",
       "2958                    ['stephenking']\n",
       "2959                  ['anthonysalter']\n",
       "Name: creators, Length: 2960, dtype: object"
      ]
     },
     "execution_count": 9,
     "metadata": {},
     "output_type": "execute_result"
    }
   ],
   "source": [
    "df2['creators']"
   ]
  },
  {
   "cell_type": "markdown",
   "metadata": {},
   "source": [
    "Creating a \"soup\" of the selected metadata\n",
    "Also - give the director 3 times weight in the soup"
   ]
  },
  {
   "cell_type": "code",
   "execution_count": 21,
   "metadata": {},
   "outputs": [],
   "source": [
    "def create_soup(x):\n",
    "    return ' '.join(x['keywords']) + ' ' + ' '.join(x['cast']) + ' ' + ' '.join(x['creators']) + ' ' + ' '.join(x['genres']) + ' '.join(x['production_companies']) \n",
    "df2['soup'] = df2.apply(create_soup, axis=1)"
   ]
  },
  {
   "cell_type": "markdown",
   "metadata": {},
   "source": [
    "Not using TF-IDF beacause it might eliminate directors/cast that played in ,ultiple movies"
   ]
  },
  {
   "cell_type": "code",
   "execution_count": 23,
   "metadata": {},
   "outputs": [],
   "source": [
    "from sklearn.feature_extraction.text import CountVectorizer\n",
    "\n",
    "count = CountVectorizer(stop_words='english')\n",
    "count_matrix = count.fit_transform(df2['soup'])"
   ]
  },
  {
   "cell_type": "code",
   "execution_count": 24,
   "metadata": {},
   "outputs": [],
   "source": [
    "# Compute the Cosine Similarity matrix based on the count_matrix\n",
    "from sklearn.metrics.pairwise import cosine_similarity\n",
    "\n",
    "cosine_sim2 = cosine_similarity(count_matrix, count_matrix)"
   ]
  },
  {
   "cell_type": "code",
   "execution_count": 25,
   "metadata": {},
   "outputs": [],
   "source": [
    "\n",
    "title_to_id = pd.Series(tvs.index, index=tvs['name'])"
   ]
  },
  {
   "cell_type": "code",
   "execution_count": 16,
   "metadata": {},
   "outputs": [],
   "source": [
    "id_to_index = pd.Series(tvs.index, index=tvs['id'])"
   ]
  },
  {
   "cell_type": "code",
   "execution_count": 19,
   "metadata": {},
   "outputs": [],
   "source": [
    "# Function that takes in movie title as input and outputs most similar movies\n",
    "def get_recommendations_by_title(title, cosine_similarity=cosine_similarity):\n",
    "    # Get the index of the movie that matches the title\n",
    "    idx = title_to_id[title]\n",
    "\n",
    "    # Get the pairwsie similarity scores of all movies with that movie\n",
    "    similarity_scores = list(enumerate(cosine_similarity[idx]))\n",
    "\n",
    "    # Sort the movies based on the similarity scores\n",
    "    similarity_scores = sorted(similarity_scores, key=lambda x: x[1], reverse=True)\n",
    "\n",
    "    # Get the scores of the 10 most similar movies\n",
    "    similarity_scores = similarity_scores[1:15]\n",
    "\n",
    "    # Get the movie indices\n",
    "    movie_indices = [i[0] for i in similarity_scores]\n",
    "\n",
    "    # Return the top 15 most similar movies\n",
    "    return tvs['name'].iloc[movie_indices]"
   ]
  },
  {
   "cell_type": "code",
   "execution_count": 26,
   "metadata": {},
   "outputs": [
    {
     "data": {
      "text/plain": [
       "1                               Arcane\n",
       "2                            One Piece\n",
       "3     Fullmetal Alchemist: Brotherhood\n",
       "4                       Rick and Morty\n",
       "5                         Heartstopper\n",
       "6                       Anne with an E\n",
       "7           Avatar: The Last Airbender\n",
       "8                           Invincible\n",
       "9       Demon Slayer: Kimetsu no Yaiba\n",
       "10                    My Hero Academia\n",
       "11                       The Owl House\n",
       "12                      The Last of Us\n",
       "13                        Regular Show\n",
       "14                              Goblin\n",
       "Name: name, dtype: object"
      ]
     },
     "execution_count": 26,
     "metadata": {},
     "output_type": "execute_result"
    }
   ],
   "source": [
    "rec = get_recommendations_by_title('Black Mirror', cosine_sim2)\n",
    "rec"
   ]
  },
  {
   "cell_type": "code",
   "execution_count": 29,
   "metadata": {},
   "outputs": [],
   "source": [
    "def get_recommendations_by_id(id, cosine_similarity=cosine_similarity):\n",
    "    # Get the index of the movie that matches the title\n",
    "    idx = id_to_index[id]\n",
    "\n",
    "    # Get the pairwsie similarity scores of all movies with that movie\n",
    "    similarity_scores = list(enumerate(cosine_similarity[idx]))\n",
    "\n",
    "    # Sort the movies based on the similarity scores\n",
    "    similarity_scores = sorted(similarity_scores, key=lambda x: x[1], reverse=True)\n",
    "\n",
    "    # Get the scores of the 10 most similar movies\n",
    "    similarity_scores = similarity_scores[1:11]\n",
    "\n",
    "    # Get the movie indices\n",
    "    movies_idx = [i[0] for i in similarity_scores]\n",
    "\n",
    "    # Return the top 10 most similar movies\n",
    "    return tvs['id'].iloc[movies_idx]"
   ]
  },
  {
   "cell_type": "code",
   "execution_count": 27,
   "metadata": {},
   "outputs": [
    {
     "data": {
      "text/plain": [
       "backdrop_path                            /iZu83GB1IM7VXL2X90m7iLHYUHU.jpg\n",
       "first_air_date                                                 2018-09-24\n",
       "id                                                                  79696\n",
       "name                                                             Manifest\n",
       "origin_country                                                     ['US']\n",
       "original_language                                                      en\n",
       "overview                After landing from a turbulent but routine fli...\n",
       "popularity                                                        190.964\n",
       "poster_path                              /27ChAuQxC0sD4EoPiZpz9ddzju0.jpg\n",
       "vote_average                                                          7.7\n",
       "vote_count                                                           1270\n",
       "genres                           ['Drama', 'Mystery', 'Sci-Fi & Fantasy']\n",
       "year                                                               2018.0\n",
       "production_companies    ['Warner Bros. Television', 'Compari Entertain...\n",
       "networks                ['Warner Bros. Television', 'Compari Entertain...\n",
       "cast                    [{'name': 'Melissa Roxburgh', 'character': 'Mi...\n",
       "creators                                                    ['Jeff Rake']\n",
       "keywords                ['new york city', 'investigation', 'time trave...\n",
       "Name: 1449, dtype: object"
      ]
     },
     "execution_count": 27,
     "metadata": {},
     "output_type": "execute_result"
    }
   ],
   "source": [
    "tvs.iloc[title_to_id['Manifest']]"
   ]
  },
  {
   "cell_type": "code",
   "execution_count": 30,
   "metadata": {},
   "outputs": [
    {
     "data": {
      "text/plain": [
       "0      1396\n",
       "1     94605\n",
       "2     37854\n",
       "3     31911\n",
       "4     60625\n",
       "5    124834\n",
       "6     70785\n",
       "7       246\n",
       "8     95557\n",
       "9     85937\n",
       "Name: id, dtype: int64"
      ]
     },
     "execution_count": 30,
     "metadata": {},
     "output_type": "execute_result"
    }
   ],
   "source": [
    "rec = get_recommendations_by_id(79696, cosine_sim2)\n",
    "rec"
   ]
  },
  {
   "cell_type": "code",
   "execution_count": 31,
   "metadata": {},
   "outputs": [
    {
     "data": {
      "text/plain": [
       "[1396, 94605, 37854, 31911, 60625, 124834, 70785, 246, 95557, 85937]"
      ]
     },
     "execution_count": 31,
     "metadata": {},
     "output_type": "execute_result"
    }
   ],
   "source": [
    "rec.to_list()"
   ]
  },
  {
   "cell_type": "markdown",
   "metadata": {},
   "source": [
    "export cosine similarity"
   ]
  },
  {
   "cell_type": "code",
   "execution_count": 32,
   "metadata": {},
   "outputs": [
    {
     "data": {
      "text/plain": [
       "id\n",
       "1396        0\n",
       "94605       1\n",
       "37854       2\n",
       "31911       3\n",
       "60625       4\n",
       "         ... \n",
       "987      2955\n",
       "4551     2956\n",
       "62223    2957\n",
       "16089    2958\n",
       "90755    2959\n",
       "Length: 2960, dtype: int64"
      ]
     },
     "execution_count": 32,
     "metadata": {},
     "output_type": "execute_result"
    }
   ],
   "source": [
    "id_to_index"
   ]
  },
  {
   "cell_type": "code",
   "execution_count": 43,
   "metadata": {},
   "outputs": [],
   "source": [
    "import pickle\n",
    "\n",
    "with open('similarity_matrix_tvs.pkl', 'wb') as f1:\n",
    "    pickle.dump(cosine_sim2, f1)\n",
    "\n",
    "with open('tv_id_to_matrix_similarity_idx.pkl', 'wb') as f2:\n",
    "    pickle.dump(id_to_index, f2)"
   ]
  }
 ],
 "metadata": {
  "kernelspec": {
   "display_name": "Python 3.9.17 ('notebooks_env')",
   "language": "python",
   "name": "python3"
  },
  "language_info": {
   "codemirror_mode": {
    "name": "ipython",
    "version": 3
   },
   "file_extension": ".py",
   "mimetype": "text/x-python",
   "name": "python",
   "nbconvert_exporter": "python",
   "pygments_lexer": "ipython3",
   "version": "3.9.17"
  },
  "orig_nbformat": 4,
  "vscode": {
   "interpreter": {
    "hash": "cabdfcec0fd6c6e7069b723be7f473a1f72caf0bf2081b3f69322c913df461e3"
   }
  }
 },
 "nbformat": 4,
 "nbformat_minor": 2
}
