{
 "cells": [
  {
   "cell_type": "code",
   "execution_count": 78,
   "metadata": {},
   "outputs": [],
   "source": [
    "import pandas as pd\n",
    "import json\n",
    "import numpy as np\n",
    "import requests\n",
    "import sklearn\n",
    "\n",
    "# Parse the stringified features into their corresponding python objects\n",
    "from ast import literal_eval\n"
   ]
  },
  {
   "cell_type": "code",
   "execution_count": 79,
   "metadata": {},
   "outputs": [
    {
     "data": {
      "text/html": [
       "<div>\n",
       "<style scoped>\n",
       "    .dataframe tbody tr th:only-of-type {\n",
       "        vertical-align: middle;\n",
       "    }\n",
       "\n",
       "    .dataframe tbody tr th {\n",
       "        vertical-align: top;\n",
       "    }\n",
       "\n",
       "    .dataframe thead th {\n",
       "        text-align: right;\n",
       "    }\n",
       "</style>\n",
       "<table border=\"1\" class=\"dataframe\">\n",
       "  <thead>\n",
       "    <tr style=\"text-align: right;\">\n",
       "      <th></th>\n",
       "      <th>adult</th>\n",
       "      <th>backdrop_path</th>\n",
       "      <th>id</th>\n",
       "      <th>original_language</th>\n",
       "      <th>overview</th>\n",
       "      <th>popularity</th>\n",
       "      <th>poster_path</th>\n",
       "      <th>release_date</th>\n",
       "      <th>title</th>\n",
       "      <th>vote_average</th>\n",
       "      <th>vote_count</th>\n",
       "      <th>genres</th>\n",
       "      <th>year</th>\n",
       "      <th>imdb_id</th>\n",
       "      <th>revenue</th>\n",
       "      <th>production_companies</th>\n",
       "      <th>cast</th>\n",
       "      <th>director</th>\n",
       "      <th>tagline</th>\n",
       "      <th>keywords</th>\n",
       "    </tr>\n",
       "  </thead>\n",
       "  <tbody>\n",
       "    <tr>\n",
       "      <th>0</th>\n",
       "      <td>False</td>\n",
       "      <td>/kXfqcdQKsToO0OUXHcrrNCHDBzO.jpg</td>\n",
       "      <td>278</td>\n",
       "      <td>en</td>\n",
       "      <td>Framed in the 1940s for the double murder of h...</td>\n",
       "      <td>113.704</td>\n",
       "      <td>/7Gvzbduz2iApKA3g7nbyGcfoBCL.jpg</td>\n",
       "      <td>1994-09-23</td>\n",
       "      <td>The Shawshank Redemption</td>\n",
       "      <td>8.7</td>\n",
       "      <td>24399</td>\n",
       "      <td>['Drama', 'Crime']</td>\n",
       "      <td>1994</td>\n",
       "      <td>tt0111161</td>\n",
       "      <td>28341469</td>\n",
       "      <td>['Castle Rock Entertainment']</td>\n",
       "      <td>[{'name': 'Tim Robbins', 'character': 'Andy Du...</td>\n",
       "      <td>Frank Darabont</td>\n",
       "      <td>Fear can hold you prisoner. Hope can set you f...</td>\n",
       "      <td>['prison', 'corruption', 'police brutality', '...</td>\n",
       "    </tr>\n",
       "    <tr>\n",
       "      <th>1</th>\n",
       "      <td>False</td>\n",
       "      <td>/zb6fM1CX41D9rF9hdgclu0peUmy.jpg</td>\n",
       "      <td>424</td>\n",
       "      <td>en</td>\n",
       "      <td>The true story of how businessman Oskar Schind...</td>\n",
       "      <td>58.232</td>\n",
       "      <td>/bnF8WWJvoL3pWdT8h7FkZlKFcke.jpg</td>\n",
       "      <td>1993-12-15</td>\n",
       "      <td>Schindler's List</td>\n",
       "      <td>8.6</td>\n",
       "      <td>14432</td>\n",
       "      <td>['Drama', 'History', 'War']</td>\n",
       "      <td>1993</td>\n",
       "      <td>tt0108052</td>\n",
       "      <td>321365567</td>\n",
       "      <td>['Amblin Entertainment']</td>\n",
       "      <td>[{'name': 'Liam Neeson', 'character': 'Oskar S...</td>\n",
       "      <td>Steven Spielberg</td>\n",
       "      <td>Whoever saves one life, saves the world entire.</td>\n",
       "      <td>['based on novel or book', 'factory', 'concent...</td>\n",
       "    </tr>\n",
       "  </tbody>\n",
       "</table>\n",
       "</div>"
      ],
      "text/plain": [
       "   adult                     backdrop_path   id original_language  \\\n",
       "0  False  /kXfqcdQKsToO0OUXHcrrNCHDBzO.jpg  278                en   \n",
       "1  False  /zb6fM1CX41D9rF9hdgclu0peUmy.jpg  424                en   \n",
       "\n",
       "                                            overview  popularity  \\\n",
       "0  Framed in the 1940s for the double murder of h...     113.704   \n",
       "1  The true story of how businessman Oskar Schind...      58.232   \n",
       "\n",
       "                        poster_path release_date                     title  \\\n",
       "0  /7Gvzbduz2iApKA3g7nbyGcfoBCL.jpg   1994-09-23  The Shawshank Redemption   \n",
       "1  /bnF8WWJvoL3pWdT8h7FkZlKFcke.jpg   1993-12-15          Schindler's List   \n",
       "\n",
       "   vote_average  vote_count                       genres  year    imdb_id  \\\n",
       "0           8.7       24399           ['Drama', 'Crime']  1994  tt0111161   \n",
       "1           8.6       14432  ['Drama', 'History', 'War']  1993  tt0108052   \n",
       "\n",
       "     revenue           production_companies  \\\n",
       "0   28341469  ['Castle Rock Entertainment']   \n",
       "1  321365567       ['Amblin Entertainment']   \n",
       "\n",
       "                                                cast          director  \\\n",
       "0  [{'name': 'Tim Robbins', 'character': 'Andy Du...    Frank Darabont   \n",
       "1  [{'name': 'Liam Neeson', 'character': 'Oskar S...  Steven Spielberg   \n",
       "\n",
       "                                             tagline  \\\n",
       "0  Fear can hold you prisoner. Hope can set you f...   \n",
       "1    Whoever saves one life, saves the world entire.   \n",
       "\n",
       "                                            keywords  \n",
       "0  ['prison', 'corruption', 'police brutality', '...  \n",
       "1  ['based on novel or book', 'factory', 'concent...  "
      ]
     },
     "execution_count": 79,
     "metadata": {},
     "output_type": "execute_result"
    }
   ],
   "source": [
    "movies = pd.read_csv('datasets/mine/top_voted_movies.csv')\n",
    "movies.head(2)"
   ]
  },
  {
   "cell_type": "code",
   "execution_count": 80,
   "metadata": {},
   "outputs": [],
   "source": [
    "def clean_data(x):\n",
    "    if isinstance(x, list):\n",
    "        return [str.lower(i.replace(\" \", \"\")) for i in x]\n",
    "    else:\n",
    "        if isinstance(x, str):\n",
    "            return str.lower(x.replace(\" \", \"\"))\n",
    "        else:\n",
    "            return ''\n",
    "\n",
    "def extract_cast_names(entries_str):\n",
    "    entries = literal_eval(entries_str)\n",
    "    return [entry['name'] for entry in entries[:5]]"
   ]
  },
  {
   "cell_type": "code",
   "execution_count": 81,
   "metadata": {},
   "outputs": [],
   "source": [
    "features = ['cast', 'director', 'keywords', 'genres', 'production_companies']\n",
    "df2 = movies.copy()[ features]\n",
    "\n",
    "df2['cast'] = df2['cast'].apply(extract_cast_names) # extract cast names\n"
   ]
  },
  {
   "cell_type": "code",
   "execution_count": 82,
   "metadata": {},
   "outputs": [],
   "source": [
    "for feature in features:\n",
    "    df2[feature] = df2[feature].apply(clean_data)"
   ]
  },
  {
   "cell_type": "code",
   "execution_count": 83,
   "metadata": {},
   "outputs": [
    {
     "data": {
      "text/plain": [
       "['liamneeson',\n",
       " 'benkingsley',\n",
       " 'ralphfiennes',\n",
       " 'carolinegoodall',\n",
       " 'jonathansagall']"
      ]
     },
     "execution_count": 83,
     "metadata": {},
     "output_type": "execute_result"
    }
   ],
   "source": [
    "df2.iloc[1]['cast']"
   ]
  },
  {
   "cell_type": "code",
   "execution_count": 84,
   "metadata": {},
   "outputs": [
    {
     "data": {
      "text/plain": [
       "0            frankdarabont\n",
       "1          stevenspielberg\n",
       "2             adityachopra\n",
       "3            hayaomiyazaki\n",
       "4            makotoshinkai\n",
       "               ...        \n",
       "8667        michaellehmann\n",
       "8668    johnpatrickshanley\n",
       "8669         bobbyfarrelly\n",
       "8670         bernardcampan\n",
       "8671              jamescox\n",
       "Name: director, Length: 8672, dtype: object"
      ]
     },
     "execution_count": 84,
     "metadata": {},
     "output_type": "execute_result"
    }
   ],
   "source": [
    "df2['director']"
   ]
  },
  {
   "cell_type": "markdown",
   "metadata": {},
   "source": [
    "Creating a \"soup\" of the selected metadata\n",
    "Also - give the director 3 times weight in the soup"
   ]
  },
  {
   "cell_type": "code",
   "execution_count": 85,
   "metadata": {},
   "outputs": [
    {
     "data": {
      "text/plain": [
       "0                      ['drama','crime']\n",
       "1              ['drama','history','war']\n",
       "2           ['comedy','drama','romance']\n",
       "3       ['animation','family','fantasy']\n",
       "4        ['romance','animation','drama']\n",
       "                      ...               \n",
       "8667     ['action','adventure','comedy']\n",
       "8668                ['comedy','romance']\n",
       "8669                ['comedy','romance']\n",
       "8670    ['comedy','adventure','fantasy']\n",
       "8671                ['drama','thriller']\n",
       "Name: genres, Length: 8672, dtype: object"
      ]
     },
     "execution_count": 85,
     "metadata": {},
     "output_type": "execute_result"
    }
   ],
   "source": [
    "df2['genres']"
   ]
  },
  {
   "cell_type": "code",
   "execution_count": 86,
   "metadata": {},
   "outputs": [],
   "source": [
    "from ast import literal_eval\n",
    "\n",
    "df2['soup'] = df2['director'].apply(lambda x: [x] * 3) + \\\n",
    "        df2['keywords'].apply(literal_eval) + \\\n",
    "        df2['genres'].apply(literal_eval) + \\\n",
    "        df2['production_companies'].apply(literal_eval) + \\\n",
    "        df2['cast']   \n",
    "\n",
    "df2['soup'] = df2['soup'].apply(lambda x: ' '.join(x))   "
   ]
  },
  {
   "cell_type": "code",
   "execution_count": 87,
   "metadata": {},
   "outputs": [
    {
     "data": {
      "text/plain": [
       "'frankdarabont frankdarabont frankdarabont prison corruption policebrutality basedonnovelorbook prisoncell delinquent paroleboard prisonescape wrongfulimprisonment framedformurder 1940s voiceover drama crime castlerockentertainment timrobbins morganfreeman bobgunton williamsadler clancybrown'"
      ]
     },
     "execution_count": 87,
     "metadata": {},
     "output_type": "execute_result"
    }
   ],
   "source": [
    "df2['soup'][0]"
   ]
  },
  {
   "cell_type": "markdown",
   "metadata": {},
   "source": [
    "Not using TF-IDF beacause it might eliminate directors/cast that played in ,ultiple movies"
   ]
  },
  {
   "cell_type": "code",
   "execution_count": 88,
   "metadata": {},
   "outputs": [],
   "source": [
    "from sklearn.feature_extraction.text import CountVectorizer\n",
    "\n",
    "count = CountVectorizer(stop_words='english')\n",
    "count_matrix = count.fit_transform(df2['soup'])"
   ]
  },
  {
   "cell_type": "code",
   "execution_count": 89,
   "metadata": {},
   "outputs": [],
   "source": [
    "# Compute the Cosine Similarity matrix based on the count_matrix\n",
    "from sklearn.metrics.pairwise import cosine_similarity\n",
    "\n",
    "cosine_sim2 = cosine_similarity(count_matrix, count_matrix)"
   ]
  },
  {
   "cell_type": "code",
   "execution_count": 90,
   "metadata": {},
   "outputs": [],
   "source": [
    "\n",
    "title_to_id = pd.Series(movies.index, index=movies['title'])"
   ]
  },
  {
   "cell_type": "code",
   "execution_count": 91,
   "metadata": {},
   "outputs": [],
   "source": [
    "id_to_index = pd.Series(movies.index, index=movies['id'])"
   ]
  },
  {
   "cell_type": "code",
   "execution_count": 92,
   "metadata": {},
   "outputs": [],
   "source": [
    "# Function that takes in movie title as input and outputs most similar movies\n",
    "def get_recommendations_by_title(title, cosine_similarity=cosine_similarity):\n",
    "    # Get the index of the movie that matches the title\n",
    "    idx = title_to_id[title]\n",
    "\n",
    "    # Get the pairwsie similarity scores of all movies with that movie\n",
    "    similarity_scores = list(enumerate(cosine_similarity[idx]))\n",
    "\n",
    "    # Sort the movies based on the similarity scores\n",
    "    similarity_scores = sorted(similarity_scores, key=lambda x: x[1], reverse=True)\n",
    "\n",
    "    # Get the scores of the 10 most similar movies\n",
    "    similarity_scores = similarity_scores[1:15]\n",
    "\n",
    "    # Get the movie indices\n",
    "    movie_indices = [i[0] for i in similarity_scores]\n",
    "\n",
    "    # Return the top 15 most similar movies\n",
    "    return movies['title'].iloc[movie_indices]"
   ]
  },
  {
   "cell_type": "code",
   "execution_count": 93,
   "metadata": {},
   "outputs": [
    {
     "data": {
      "text/plain": [
       "4438              Burn After Reading\n",
       "7835                   Hail, Caesar!\n",
       "1133                     Barton Fink\n",
       "1574      O Brother, Where Art Thou?\n",
       "2198    The Ballad of Buster Scruggs\n",
       "6935                 The Ladykillers\n",
       "888         The Man Who Wasn't There\n",
       "367                            Fargo\n",
       "1641                       True Grit\n",
       "1963             Inside Llewyn Davis\n",
       "2612                 Raising Arizona\n",
       "2454             The Hudsucker Proxy\n",
       "7805             Intolerable Cruelty\n",
       "2805          The Tragedy of Macbeth\n",
       "Name: title, dtype: object"
      ]
     },
     "execution_count": 93,
     "metadata": {},
     "output_type": "execute_result"
    }
   ],
   "source": [
    "rec = get_recommendations_by_title('A Serious Man', cosine_sim2)\n",
    "rec"
   ]
  },
  {
   "cell_type": "code",
   "execution_count": 94,
   "metadata": {},
   "outputs": [],
   "source": [
    "def get_recommendations_by_id(id, cosine_similarity=cosine_similarity):\n",
    "    # Get the index of the movie that matches the title\n",
    "    idx = id_to_index[id]\n",
    "\n",
    "    # Get the pairwsie similarity scores of all movies with that movie\n",
    "    similarity_scores = list(enumerate(cosine_similarity[idx]))\n",
    "\n",
    "    # Sort the movies based on the similarity scores\n",
    "    similarity_scores = sorted(similarity_scores, key=lambda x: x[1], reverse=True)\n",
    "\n",
    "    # Get the scores of the 10 most similar movies\n",
    "    similarity_scores = similarity_scores[1:11]\n",
    "\n",
    "    # Get the movie indices\n",
    "    movies_idx = [i[0] for i in similarity_scores]\n",
    "\n",
    "    # Return the top 10 most similar movies\n",
    "    return movies['id'].iloc[movies_idx]"
   ]
  },
  {
   "cell_type": "code",
   "execution_count": 95,
   "metadata": {},
   "outputs": [
    {
     "data": {
      "text/plain": [
       "adult                                                               False\n",
       "backdrop_path                            /ihwfod79qlBbFpjVQNeXxmX03ql.jpg\n",
       "id                                                                  12573\n",
       "original_language                                                      en\n",
       "overview                It is 1967, and Larry Gopnik, a physics profes...\n",
       "popularity                                                         18.706\n",
       "poster_path                              /vWWxILkTc0OMQwkKsePVophxkhi.jpg\n",
       "release_date                                                   2009-09-30\n",
       "title                                                       A Serious Man\n",
       "vote_average                                                          6.8\n",
       "vote_count                                                           1873\n",
       "genres                                                ['Comedy', 'Drama']\n",
       "year                                                                 2009\n",
       "imdb_id                                                         tt1019452\n",
       "revenue                                                          31430334\n",
       "production_companies    ['Mike Zoss Productions', 'Focus Features', 'R...\n",
       "cast                    [{'name': 'Michael Stuhlbarg', 'character': \"L...\n",
       "director                                                        Joel Coen\n",
       "tagline                                                       …seriously!\n",
       "keywords                ['minnesota', 'midlife crisis', 'professor', '...\n",
       "Name: 3841, dtype: object"
      ]
     },
     "execution_count": 95,
     "metadata": {},
     "output_type": "execute_result"
    }
   ],
   "source": [
    "movies.iloc[title_to_id['A Serious Man']]"
   ]
  },
  {
   "cell_type": "code",
   "execution_count": 96,
   "metadata": {},
   "outputs": [
    {
     "data": {
      "text/plain": [
       "4438      4944\n",
       "7835    270487\n",
       "1133       290\n",
       "1574       134\n",
       "2198    537996\n",
       "6935      5516\n",
       "888      10778\n",
       "367        275\n",
       "1641     44264\n",
       "1963     86829\n",
       "Name: id, dtype: int64"
      ]
     },
     "execution_count": 96,
     "metadata": {},
     "output_type": "execute_result"
    }
   ],
   "source": [
    "rec = get_recommendations_by_id(12573, cosine_sim2)\n",
    "rec"
   ]
  },
  {
   "cell_type": "code",
   "execution_count": 97,
   "metadata": {},
   "outputs": [
    {
     "data": {
      "text/plain": [
       "[4944, 270487, 290, 134, 537996, 5516, 10778, 275, 44264, 86829]"
      ]
     },
     "execution_count": 97,
     "metadata": {},
     "output_type": "execute_result"
    }
   ],
   "source": [
    "rec.to_list()"
   ]
  },
  {
   "cell_type": "markdown",
   "metadata": {},
   "source": [
    "export cosine similarity"
   ]
  },
  {
   "cell_type": "code",
   "execution_count": 98,
   "metadata": {},
   "outputs": [
    {
     "data": {
      "text/plain": [
       "id\n",
       "278          0\n",
       "424          1\n",
       "19404        2\n",
       "129          3\n",
       "372058       4\n",
       "          ... \n",
       "9292      8667\n",
       "2565      8668\n",
       "48988     8669\n",
       "18298     8670\n",
       "385360    8671\n",
       "Length: 8672, dtype: int64"
      ]
     },
     "execution_count": 98,
     "metadata": {},
     "output_type": "execute_result"
    }
   ],
   "source": [
    "id_to_index"
   ]
  },
  {
   "cell_type": "code",
   "execution_count": 99,
   "metadata": {},
   "outputs": [],
   "source": [
    "import pickle\n",
    "\n",
    "with open('similarity_matrix.pkl', 'wb') as f1:\n",
    "    pickle.dump(cosine_sim2, f1)\n",
    "\n",
    "with open('movie_id_to_matrix_similarity_idx.pkl', 'wb') as f2:\n",
    "    pickle.dump(id_to_index, f2)"
   ]
  }
 ],
 "metadata": {
  "kernelspec": {
   "display_name": "Python 3.9.17 ('notebooks_env')",
   "language": "python",
   "name": "python3"
  },
  "language_info": {
   "codemirror_mode": {
    "name": "ipython",
    "version": 3
   },
   "file_extension": ".py",
   "mimetype": "text/x-python",
   "name": "python",
   "nbconvert_exporter": "python",
   "pygments_lexer": "ipython3",
   "version": "3.9.17"
  },
  "orig_nbformat": 4,
  "vscode": {
   "interpreter": {
    "hash": "cabdfcec0fd6c6e7069b723be7f473a1f72caf0bf2081b3f69322c913df461e3"
   }
  }
 },
 "nbformat": 4,
 "nbformat_minor": 2
}
