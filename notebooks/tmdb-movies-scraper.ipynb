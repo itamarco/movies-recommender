{
 "cells": [
  {
   "cell_type": "code",
   "execution_count": 39,
   "metadata": {},
   "outputs": [],
   "source": [
    "import requests\n",
    "from tqdm.notebook import tqdm\n",
    "from concurrent.futures import ThreadPoolExecutor\n",
    "from collections import defaultdict"
   ]
  },
  {
   "cell_type": "code",
   "execution_count": 33,
   "metadata": {},
   "outputs": [],
   "source": [
    "API_KEY = \"4f7e050b4d9ee8f88f4b60cc46ec39b3\"\n",
    "HEB = 'he-IL'\n",
    "ENG = 'en-US'\n",
    "EARLIEST_YEAR = 1984\n",
    "MAX_MOVIES = 30000\n",
    "MOVIES_PER_PAGE = 20"
   ]
  },
  {
   "cell_type": "markdown",
   "metadata": {},
   "source": [
    "## Download top voted movies"
   ]
  },
  {
   "cell_type": "code",
   "execution_count": 3,
   "metadata": {},
   "outputs": [],
   "source": [
    "top_rated_request = 'https://api.themoviedb.org/3/movie/top_rated?api_key={api_key}&language={lang}&page={page}'"
   ]
  },
  {
   "cell_type": "code",
   "execution_count": null,
   "metadata": {},
   "outputs": [],
   "source": [
    "\n",
    "top_rated_movies = []\n",
    "with tqdm(total=MAX_MOVIES, desc=\"Downloading movies\") as pbar:\n",
    "    page = 1\n",
    "    while len(top_rated_movies) < MAX_MOVIES:\n",
    "        request_url = top_rated_request.format(api_key=API_KEY, lang=HEB, page=page)\n",
    "        response = requests.get(request_url)\n",
    "        if response.status_code == 200:\n",
    "            json_data = response.json()\n",
    "            buffered_movies = [m for m in json_data['results'] if int(m['release_date'].split('-')[0]) >= EARLIEST_YEAR]\n",
    "            top_rated_movies += buffered_movies\n",
    "            page += 1\n",
    "            pbar.update(len(buffered_movies))\n",
    "        else:\n",
    "            print(f\"{response.status_code} for {request_url}\")\n"
   ]
  },
  {
   "cell_type": "markdown",
   "metadata": {},
   "source": [
    "## Downloading metadata"
   ]
  },
  {
   "cell_type": "code",
   "execution_count": 55,
   "metadata": {},
   "outputs": [
    {
     "data": {
      "application/vnd.jupyter.widget-view+json": {
       "model_id": "37f3717f6eb24f13a591fbb0368fb889",
       "version_major": 2,
       "version_minor": 0
      },
      "text/plain": [
       "Downloading details and cast:   0%|          | 0/8672 [00:00<?, ?it/s]"
      ]
     },
     "metadata": {},
     "output_type": "display_data"
    }
   ],
   "source": [
    "\n",
    "def download_movie_data(movie_id):\n",
    "    details_url = f'https://api.themoviedb.org/3/movie/{movie_id}'\n",
    "    credits_url = f'https://api.themoviedb.org/3/movie/{movie_id}/credits'\n",
    "    keywords_url = f'https://api.themoviedb.org/3/movie/{movie_id}/keywords'\n",
    "    params = {'api_key': API_KEY}\n",
    "\n",
    "    movie_data = {}\n",
    "\n",
    "    # Downloading movie details\n",
    "    response = requests.get(details_url, params=params)\n",
    "    if response.status_code == 200:\n",
    "        movie_data['details'] = response.json()\n",
    "\n",
    "    # Downloading cast data\n",
    "    response = requests.get(credits_url, params=params)\n",
    "    if response.status_code == 200:\n",
    "        movie_data['credits'] = response.json()\n",
    "\n",
    "    # Downloading cast data\n",
    "    response = requests.get(keywords_url, params=params)\n",
    "    if response.status_code == 200:\n",
    "        movie_data['keywords'] = response.json()\n",
    "\n",
    "    return movie_id, movie_data\n",
    "\n",
    "movie_ids = [movie['id'] for movie in top_rated_movies]\n",
    "movie_details_map = defaultdict(dict)\n",
    "\n",
    "with ThreadPoolExecutor() as executor:\n",
    "    for movie_id, movie_data in tqdm(executor.map(download_movie_data, movie_ids), total=len(movie_ids), desc=\"Downloading details and cast\"):\n",
    "        movie_details_map[movie_id] = movie_data\n"
   ]
  },
  {
   "cell_type": "markdown",
   "metadata": {},
   "source": [
    "## Compose union json"
   ]
  },
  {
   "cell_type": "code",
   "execution_count": 71,
   "metadata": {},
   "outputs": [],
   "source": [
    "def extract_keys(entry, keys):\n",
    "    return {key: entry[key] for key in keys if key in entry}\n",
    "\n",
    "def extract_list_be_key(entries, key):\n",
    "    return [entry[key] for entry in entries]\n",
    "\n",
    "def extract_director(crew):\n",
    "    for c in crew:\n",
    "        if c['job'] == 'Director':\n",
    "            return c['name']\n",
    "    return None\n",
    "\n",
    "def populate_movie(movie, details, credits, keywords):\n",
    "    movie['genres'] = extract_list_be_key(details['genres'], 'name')\n",
    "    movie['title_he'] = movie['title']\n",
    "    movie['title'] = details['title']\n",
    "    movie['year'] = movie['release_date'].split('-')[0]\n",
    "    movie['imdb_id'] = details['imdb_id']\n",
    "    movie['overview_he'] = movie['overview']\n",
    "    movie['overview'] = details['overview']\n",
    "    movie['revenue'] = details['revenue']\n",
    "    movie['production_companies'] = extract_list_be_key(details['production_companies'], 'name')\n",
    "\n",
    "    movie['cast'] = [extract_keys(p, ['name', 'character', 'profile_path','order']) for p in credits['cast'][:8]]\n",
    "    movie['director'] = extract_director(credits['crew'])\n",
    "    movie['tagline'] = details['tagline']\n",
    "\n",
    "    movie['keywords'] = extract_list_be_key(keywords, 'name')\n",
    "\n",
    "    del movie['genre_ids']\n",
    "    del movie['video']\n"
   ]
  },
  {
   "cell_type": "code",
   "execution_count": 72,
   "metadata": {},
   "outputs": [],
   "source": [
    "for movie in top_rated_movies:\n",
    "    id = movie['id']\n",
    "    populate_movie(movie, movie_details_map[id]['details'], movie_details_map[id]['credits'], movie_details_map[id]['keywords']['keywords'])"
   ]
  },
  {
   "cell_type": "code",
   "execution_count": 74,
   "metadata": {},
   "outputs": [
    {
     "data": {
      "text/plain": [
       "{'adult': False,\n",
       " 'backdrop_path': '/79bJL9ydAMYVltuNTt4VhxORqIz.jpg',\n",
       " 'id': 329,\n",
       " 'original_language': 'en',\n",
       " 'original_title': 'Jurassic Park',\n",
       " 'overview': 'A wealthy entrepreneur secretly creates a theme park featuring living dinosaurs drawn from prehistoric DNA. Before opening day, he invites a team of experts and his two eager grandchildren to experience the park and help calm anxious investors. However, the park is anything but amusing as the security systems go off-line and the dinosaurs escape.',\n",
       " 'popularity': 25.38,\n",
       " 'poster_path': '/ch72OO4bPIu0DOKniPySBlems2y.jpg',\n",
       " 'release_date': '1993-06-11',\n",
       " 'title': 'Jurassic Park',\n",
       " 'vote_average': 7.9,\n",
       " 'vote_count': 15005,\n",
       " 'genres': ['Adventure', 'Science Fiction'],\n",
       " 'title_he': 'פארק היורה',\n",
       " 'year': '1993',\n",
       " 'imdb_id': 'tt0107290',\n",
       " 'overview_he': 'לגו\\'ן האמונד, מיליונר מזדקן, יש רעיון מטורף, לפתוח פארק שעשועים שהאטרקציה המרכזית בו היא דינוזאורים. חוקריו של האמונד מצליחים, בעזרת תהליך חדשני, להפיק דנ\"א של דינוזאורים שמתו לפני מאות מיליוני שנים ולהחזירם לחיים. לפני פתיחת הפארק לקהל הרחב מזמין האמונד, לצורך חוות דעת אחרונה ולהרגעת משקיעיו, קבוצת חוקרים נודעים, האמורים לחקור ולהתרשם מהפארק. כבר במהלך סיור ההתרשמות הראשוני, משתבשות כל התוכנית. העניינים והחיות יוצאים משליטה. מרגע זה ועד הסוף הדרמטי הופך הסרט למסע הישרדות מדהים תוך התמודדות מול יצורים קדמוניים שחזרו - ובגדול.',\n",
       " 'revenue': 920100000,\n",
       " 'production_companies': ['Universal Pictures', 'Amblin Entertainment'],\n",
       " 'cast': [{'name': 'Sam Neill',\n",
       "   'character': 'Grant',\n",
       "   'profile_path': '/8A6UifLxsv9Q45plOMGXgVHOl9I.jpg',\n",
       "   'order': 0},\n",
       "  {'name': 'Laura Dern',\n",
       "   'character': 'Ellie',\n",
       "   'profile_path': '/2Ryt0SsExqWrLTzBu6sZcbLwoDJ.jpg',\n",
       "   'order': 1},\n",
       "  {'name': 'Jeff Goldblum',\n",
       "   'character': 'Malcolm',\n",
       "   'profile_path': '/ceSmXnD0FUSTaq2WIrnZu9caL0t.jpg',\n",
       "   'order': 2},\n",
       "  {'name': 'Richard Attenborough',\n",
       "   'character': 'Hammond',\n",
       "   'profile_path': '/bU0o3g5rbpzRkJ5bGowekGvfiHw.jpg',\n",
       "   'order': 3},\n",
       "  {'name': 'Bob Peck',\n",
       "   'character': 'Muldoon',\n",
       "   'profile_path': '/fkGw728ZherxOwfa2uPMOoYPX6h.jpg',\n",
       "   'order': 4},\n",
       "  {'name': 'Martin Ferrero',\n",
       "   'character': 'Gennaro',\n",
       "   'profile_path': '/exNDaap66dmsfBQkCf7vHGj3TBK.jpg',\n",
       "   'order': 5},\n",
       "  {'name': 'BD Wong',\n",
       "   'character': 'Dr. Henry Wu',\n",
       "   'profile_path': '/w7Hs9m6ocS2qlibvrLOvmyCKbAN.jpg',\n",
       "   'order': 6},\n",
       "  {'name': 'Samuel L. Jackson',\n",
       "   'character': 'Arnold',\n",
       "   'profile_path': '/nCJJ3NVksYNxIzEHcyC1XziwPVj.jpg',\n",
       "   'order': 7}],\n",
       " 'director': 'Steven Spielberg',\n",
       " 'tagline': 'An adventure 65 million years in the making.',\n",
       " 'keywords': ['exotic island',\n",
       "  'dna',\n",
       "  'paleontology',\n",
       "  'tyrannosaurus rex',\n",
       "  'triceratops',\n",
       "  'brontosaurus',\n",
       "  'electric fence',\n",
       "  'island',\n",
       "  'dinosaur',\n",
       "  'amusement park',\n",
       "  'theme park']}"
      ]
     },
     "execution_count": 74,
     "metadata": {},
     "output_type": "execute_result"
    }
   ],
   "source": [
    "top_rated_movies[285]"
   ]
  },
  {
   "cell_type": "markdown",
   "metadata": {},
   "source": [
    "## Export json and CSV"
   ]
  },
  {
   "cell_type": "code",
   "execution_count": 75,
   "metadata": {},
   "outputs": [],
   "source": [
    "import json\n",
    "with open('top-voted-movies.json', 'w', encoding='utf-8') as f1:\n",
    "    json.dump(top_rated_movies, f1, ensure_ascii=False)\n",
    "\n",
    "with open('movies-map.json', 'w', encoding='utf-8') as f2:\n",
    "    movies_map = {m['id']: m for m in top_rated_movies}\n",
    "    json.dump(movies_map, f2, ensure_ascii=False)"
   ]
  },
  {
   "cell_type": "code",
   "execution_count": 80,
   "metadata": {},
   "outputs": [],
   "source": [
    "import pandas as pd\n",
    "df = pd.DataFrame.from_dict(top_rated_movies)\n",
    "df.drop(columns=['title_he', 'overview_he', 'original_title'], inplace=True)\n",
    "df.to_csv('top_voted_movies.csv', encoding='utf-8', index=False)"
   ]
  }
 ],
 "metadata": {
  "kernelspec": {
   "display_name": "notebooks_env",
   "language": "python",
   "name": "notebooks_env"
  },
  "language_info": {
   "codemirror_mode": {
    "name": "ipython",
    "version": 3
   },
   "file_extension": ".py",
   "mimetype": "text/x-python",
   "name": "python",
   "nbconvert_exporter": "python",
   "pygments_lexer": "ipython3",
   "version": "3.9.17"
  },
  "orig_nbformat": 4,
  "vscode": {
   "interpreter": {
    "hash": "dea6d499cbf397c26ae013ea8e53ba5411bcbd1f3ca809ab02d0d1b7bcfb1cbc"
   }
  }
 },
 "nbformat": 4,
 "nbformat_minor": 2
}
