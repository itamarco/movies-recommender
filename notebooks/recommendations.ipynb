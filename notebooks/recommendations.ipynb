{
 "cells": [
  {
   "cell_type": "code",
   "execution_count": 18,
   "metadata": {},
   "outputs": [],
   "source": [
    "import pandas as pd\n",
    "import json\n",
    "import numpy as np\n",
    "import requests\n",
    "import sklearn\n",
    "\n",
    "# Parse the stringified features into their corresponding python objects\n",
    "from ast import literal_eval\n"
   ]
  },
  {
   "cell_type": "code",
   "execution_count": 160,
   "metadata": {},
   "outputs": [
    {
     "data": {
      "text/html": [
       "<div>\n",
       "<style scoped>\n",
       "    .dataframe tbody tr th:only-of-type {\n",
       "        vertical-align: middle;\n",
       "    }\n",
       "\n",
       "    .dataframe tbody tr th {\n",
       "        vertical-align: top;\n",
       "    }\n",
       "\n",
       "    .dataframe thead th {\n",
       "        text-align: right;\n",
       "    }\n",
       "</style>\n",
       "<table border=\"1\" class=\"dataframe\">\n",
       "  <thead>\n",
       "    <tr style=\"text-align: right;\">\n",
       "      <th></th>\n",
       "      <th>id</th>\n",
       "      <th>title</th>\n",
       "      <th>genres</th>\n",
       "      <th>overview</th>\n",
       "      <th>tagline</th>\n",
       "      <th>keywords</th>\n",
       "      <th>poster</th>\n",
       "      <th>lang</th>\n",
       "      <th>date</th>\n",
       "      <th>cast</th>\n",
       "      <th>director</th>\n",
       "      <th>popularity</th>\n",
       "      <th>vote_average</th>\n",
       "      <th>vote_count</th>\n",
       "    </tr>\n",
       "  </thead>\n",
       "  <tbody>\n",
       "    <tr>\n",
       "      <th>0</th>\n",
       "      <td>19995</td>\n",
       "      <td>Avatar</td>\n",
       "      <td>['Action', 'Adventure', 'Fantasy', 'Science Fi...</td>\n",
       "      <td>In the 22nd century, a paraplegic Marine is di...</td>\n",
       "      <td>Enter the World of Pandora.</td>\n",
       "      <td>['culture clash', 'future', 'space war', 'spac...</td>\n",
       "      <td>/kyeqWdyUXW608qlYkRqosgbbJyK.jpg</td>\n",
       "      <td>en</td>\n",
       "      <td>2009-12-10</td>\n",
       "      <td>[{'name': 'Sam Worthington', 'character': 'Jak...</td>\n",
       "      <td>James Cameron</td>\n",
       "      <td>150</td>\n",
       "      <td>7.2</td>\n",
       "      <td>11800</td>\n",
       "    </tr>\n",
       "    <tr>\n",
       "      <th>1</th>\n",
       "      <td>285</td>\n",
       "      <td>Pirates of the Caribbean: At World's End</td>\n",
       "      <td>['Adventure', 'Fantasy', 'Action']</td>\n",
       "      <td>Captain Barbossa, long believed to be dead, ha...</td>\n",
       "      <td>At the end of the world, the adventure begins.</td>\n",
       "      <td>['ocean', 'drug abuse', 'exotic island', 'east...</td>\n",
       "      <td>/jGWpG4YhpQwVmjyHEGkxEkeRf0S.jpg</td>\n",
       "      <td>en</td>\n",
       "      <td>2007-05-19</td>\n",
       "      <td>[{'name': 'Johnny Depp', 'character': 'Captain...</td>\n",
       "      <td>Gore Verbinski</td>\n",
       "      <td>139</td>\n",
       "      <td>6.9</td>\n",
       "      <td>4500</td>\n",
       "    </tr>\n",
       "  </tbody>\n",
       "</table>\n",
       "</div>"
      ],
      "text/plain": [
       "      id                                     title  \\\n",
       "0  19995                                    Avatar   \n",
       "1    285  Pirates of the Caribbean: At World's End   \n",
       "\n",
       "                                              genres  \\\n",
       "0  ['Action', 'Adventure', 'Fantasy', 'Science Fi...   \n",
       "1                 ['Adventure', 'Fantasy', 'Action']   \n",
       "\n",
       "                                            overview  \\\n",
       "0  In the 22nd century, a paraplegic Marine is di...   \n",
       "1  Captain Barbossa, long believed to be dead, ha...   \n",
       "\n",
       "                                          tagline  \\\n",
       "0                     Enter the World of Pandora.   \n",
       "1  At the end of the world, the adventure begins.   \n",
       "\n",
       "                                            keywords  \\\n",
       "0  ['culture clash', 'future', 'space war', 'spac...   \n",
       "1  ['ocean', 'drug abuse', 'exotic island', 'east...   \n",
       "\n",
       "                             poster lang        date  \\\n",
       "0  /kyeqWdyUXW608qlYkRqosgbbJyK.jpg   en  2009-12-10   \n",
       "1  /jGWpG4YhpQwVmjyHEGkxEkeRf0S.jpg   en  2007-05-19   \n",
       "\n",
       "                                                cast        director  \\\n",
       "0  [{'name': 'Sam Worthington', 'character': 'Jak...   James Cameron   \n",
       "1  [{'name': 'Johnny Depp', 'character': 'Captain...  Gore Verbinski   \n",
       "\n",
       "   popularity  vote_average  vote_count  \n",
       "0         150           7.2       11800  \n",
       "1         139           6.9        4500  "
      ]
     },
     "execution_count": 160,
     "metadata": {},
     "output_type": "execute_result"
    }
   ],
   "source": [
    "movies = pd.read_csv('movies.csv')\n",
    "movies.head(2)"
   ]
  },
  {
   "cell_type": "code",
   "execution_count": 161,
   "metadata": {},
   "outputs": [],
   "source": [
    "def clean_data(x):\n",
    "    if isinstance(x, list):\n",
    "        return [str.lower(i.replace(\" \", \"\")) for i in x]\n",
    "    else:\n",
    "        if isinstance(x, str):\n",
    "            return str.lower(x.replace(\" \", \"\"))\n",
    "        else:\n",
    "            return ''\n",
    "\n",
    "def extract_cast_names(entries_str):\n",
    "    entries = literal_eval(entries_str)\n",
    "    return [entry['name'] for entry in entries[:5]]"
   ]
  },
  {
   "cell_type": "code",
   "execution_count": 162,
   "metadata": {},
   "outputs": [],
   "source": [
    "features = ['cast', 'director', 'keywords', 'genres']\n",
    "df2 = movies.copy()[ features]\n",
    "\n",
    "df2['cast'] = df2['cast'].apply(extract_cast_names) # extract cast names\n"
   ]
  },
  {
   "cell_type": "code",
   "execution_count": 163,
   "metadata": {},
   "outputs": [],
   "source": [
    "for feature in features:\n",
    "    df2[feature] = df2[feature].apply(clean_data)"
   ]
  },
  {
   "cell_type": "code",
   "execution_count": 152,
   "metadata": {},
   "outputs": [
    {
     "data": {
      "text/plain": [
       "['johnnydepp',\n",
       " 'orlandobloom',\n",
       " 'keiraknightley',\n",
       " 'stellanskarsgård',\n",
       " 'chowyun-fat']"
      ]
     },
     "execution_count": 152,
     "metadata": {},
     "output_type": "execute_result"
    }
   ],
   "source": [
    "df2.iloc[1]['cast']"
   ]
  },
  {
   "cell_type": "code",
   "execution_count": 136,
   "metadata": {},
   "outputs": [
    {
     "data": {
      "text/plain": [
       "id\n",
       "19995         jamescameron\n",
       "285          goreverbinski\n",
       "206647           sammendes\n",
       "49026     christophernolan\n",
       "49529        andrewstanton\n",
       "                ...       \n",
       "9367       robertrodriguez\n",
       "72766          edwardburns\n",
       "231617          scottsmith\n",
       "126186          danielhsia\n",
       "25975      brianherzlinger\n",
       "Name: director, Length: 4803, dtype: object"
      ]
     },
     "execution_count": 136,
     "metadata": {},
     "output_type": "execute_result"
    }
   ],
   "source": [
    "df2['director']"
   ]
  },
  {
   "cell_type": "markdown",
   "metadata": {},
   "source": [
    "Creating a \"soup\" of the selected metadata\n",
    "Also - give the director 3 times weight in the soup"
   ]
  },
  {
   "cell_type": "code",
   "execution_count": 164,
   "metadata": {},
   "outputs": [],
   "source": [
    "df2['director'] = df2['director'].apply(lambda x: (x + ' ') * 3 if isinstance(x, str) else x) # give the director more weight\n",
    "def create_soup(x):\n",
    "    return ' '.join(x['keywords']) + ' ' + ' '.join(x['cast']) + ' ' + x['director'] + ' ' + ' '.join(x['genres'])\n",
    "df2['soup'] = df2.apply(create_soup, axis=1)"
   ]
  },
  {
   "cell_type": "markdown",
   "metadata": {},
   "source": [
    "Not using TF-IDF beacause it might eliminate directors/cast that played in ,ultiple movies"
   ]
  },
  {
   "cell_type": "code",
   "execution_count": 165,
   "metadata": {},
   "outputs": [],
   "source": [
    "from sklearn.feature_extraction.text import CountVectorizer\n",
    "\n",
    "count = CountVectorizer(stop_words='english')\n",
    "count_matrix = count.fit_transform(df2['soup'])"
   ]
  },
  {
   "cell_type": "code",
   "execution_count": 166,
   "metadata": {},
   "outputs": [],
   "source": [
    "# Compute the Cosine Similarity matrix based on the count_matrix\n",
    "from sklearn.metrics.pairwise import cosine_similarity\n",
    "\n",
    "cosine_sim2 = cosine_similarity(count_matrix, count_matrix)"
   ]
  },
  {
   "cell_type": "code",
   "execution_count": 170,
   "metadata": {},
   "outputs": [],
   "source": [
    "\n",
    "title_to_id = pd.Series(movies.index, index=movies['title'])"
   ]
  },
  {
   "cell_type": "code",
   "execution_count": 173,
   "metadata": {},
   "outputs": [],
   "source": [
    "id_to_index = pd.Series(movies.index, index=movies['id'])"
   ]
  },
  {
   "cell_type": "code",
   "execution_count": 182,
   "metadata": {},
   "outputs": [],
   "source": [
    "# Function that takes in movie title as input and outputs most similar movies\n",
    "def get_recommendations_by_title(title, cosine_similarity=cosine_similarity):\n",
    "    # Get the index of the movie that matches the title\n",
    "    idx = title_to_id[title]\n",
    "\n",
    "    # Get the pairwsie similarity scores of all movies with that movie\n",
    "    similarity_scores = list(enumerate(cosine_similarity[idx]))\n",
    "\n",
    "    # Sort the movies based on the similarity scores\n",
    "    similarity_scores = sorted(similarity_scores, key=lambda x: x[1], reverse=True)\n",
    "\n",
    "    # Get the scores of the 10 most similar movies\n",
    "    similarity_scores = similarity_scores[1:11]\n",
    "\n",
    "    # Get the movie indices\n",
    "    movie_indices = [i[0] for i in similarity_scores]\n",
    "\n",
    "    # Return the top 10 most similar movies\n",
    "    return movies['title'].iloc[movie_indices]"
   ]
  },
  {
   "cell_type": "code",
   "execution_count": 183,
   "metadata": {},
   "outputs": [
    {
     "data": {
      "text/plain": [
       "1283           The Hudsucker Proxy\n",
       "1330            Burn After Reading\n",
       "1365                     True Grit\n",
       "1790    O Brother, Where Art Thou?\n",
       "1829        No Country for Old Men\n",
       "2041                 Hail, Caesar!\n",
       "2607              The Big Lebowski\n",
       "2951           Inside Llewyn Davis\n",
       "756            Intolerable Cruelty\n",
       "1397               The Ladykillers\n",
       "Name: title, dtype: object"
      ]
     },
     "execution_count": 183,
     "metadata": {},
     "output_type": "execute_result"
    }
   ],
   "source": [
    "rec = get_recommendations_by_title('A Serious Man', cosine_sim2)\n",
    "rec"
   ]
  },
  {
   "cell_type": "code",
   "execution_count": 174,
   "metadata": {},
   "outputs": [],
   "source": [
    "def get_recommendations_by_id(id, cosine_similarity=cosine_similarity):\n",
    "    # Get the index of the movie that matches the title\n",
    "    idx = id_to_index[id]\n",
    "\n",
    "    # Get the pairwsie similarity scores of all movies with that movie\n",
    "    similarity_scores = list(enumerate(cosine_similarity[idx]))\n",
    "\n",
    "    # Sort the movies based on the similarity scores\n",
    "    similarity_scores = sorted(similarity_scores, key=lambda x: x[1], reverse=True)\n",
    "\n",
    "    # Get the scores of the 10 most similar movies\n",
    "    similarity_scores = similarity_scores[1:11]\n",
    "\n",
    "    # Get the movie indices\n",
    "    movies_idx = [i[0] for i in similarity_scores]\n",
    "\n",
    "    # Return the top 10 most similar movies\n",
    "    return movies['id'].iloc[movies_idx]"
   ]
  },
  {
   "cell_type": "code",
   "execution_count": 176,
   "metadata": {},
   "outputs": [
    {
     "data": {
      "text/plain": [
       "index                                                        3362\n",
       "id                                                          12573\n",
       "title                                               A Serious Man\n",
       "genres                                        ['Comedy', 'Drama']\n",
       "overview        A Serious Man is the story of an ordinary man'...\n",
       "tagline                                             ...seriously!\n",
       "keywords        ['professor', 'dark comedy', 'telephone call',...\n",
       "poster                           /5gGxDS8WmrebPlMHexVS8EVehiP.jpg\n",
       "lang                                                           en\n",
       "date                                                   2009-10-02\n",
       "cast            [{'name': 'Michael Stuhlbarg', 'character': 'L...\n",
       "director                                                Joel Coen\n",
       "popularity                                                     23\n",
       "vote_average                                                  6.6\n",
       "vote_count                                                    483\n",
       "Name: 3362, dtype: object"
      ]
     },
     "execution_count": 176,
     "metadata": {},
     "output_type": "execute_result"
    }
   ],
   "source": [
    "movies.iloc[title_to_id['A Serious Man']]"
   ]
  },
  {
   "cell_type": "code",
   "execution_count": 177,
   "metadata": {},
   "outputs": [
    {
     "data": {
      "text/plain": [
       "1283     11934\n",
       "1330      4944\n",
       "1365     44264\n",
       "1790       134\n",
       "1829      6977\n",
       "2041    270487\n",
       "2607       115\n",
       "2951     86829\n",
       "756      11775\n",
       "1397      5516\n",
       "Name: id, dtype: int64"
      ]
     },
     "execution_count": 177,
     "metadata": {},
     "output_type": "execute_result"
    }
   ],
   "source": [
    "rec = get_recommendations_by_id(12573, cosine_sim2)\n",
    "rec"
   ]
  },
  {
   "cell_type": "code",
   "execution_count": 178,
   "metadata": {},
   "outputs": [
    {
     "data": {
      "text/plain": [
       "[11934, 4944, 44264, 134, 6977, 270487, 115, 86829, 11775, 5516]"
      ]
     },
     "execution_count": 178,
     "metadata": {},
     "output_type": "execute_result"
    }
   ],
   "source": [
    "rec.to_list()"
   ]
  },
  {
   "cell_type": "markdown",
   "metadata": {},
   "source": [
    "export cosine similarity"
   ]
  },
  {
   "cell_type": "code",
   "execution_count": 188,
   "metadata": {},
   "outputs": [
    {
     "data": {
      "text/plain": [
       "id\n",
       "19995        0\n",
       "285          1\n",
       "206647       2\n",
       "49026        3\n",
       "49529        4\n",
       "          ... \n",
       "9367      4798\n",
       "72766     4799\n",
       "231617    4800\n",
       "126186    4801\n",
       "25975     4802\n",
       "Length: 4803, dtype: int64"
      ]
     },
     "execution_count": 188,
     "metadata": {},
     "output_type": "execute_result"
    }
   ],
   "source": [
    "id_to_index"
   ]
  },
  {
   "cell_type": "code",
   "execution_count": 190,
   "metadata": {},
   "outputs": [],
   "source": [
    "import pickle\n",
    "\n",
    "with open('similarity_matrix.pkl', 'wb') as f1:\n",
    "    pickle.dump(cosine_sim2, f1)\n",
    "\n",
    "with open('movie_id_to_matrix_similarity_idx.pkl', 'wb') as f2:\n",
    "    pickle.dump(id_to_index, f2)"
   ]
  }
 ],
 "metadata": {
  "kernelspec": {
   "display_name": "Python 3.9.17 ('notebooks_env')",
   "language": "python",
   "name": "python3"
  },
  "language_info": {
   "codemirror_mode": {
    "name": "ipython",
    "version": 3
   },
   "file_extension": ".py",
   "mimetype": "text/x-python",
   "name": "python",
   "nbconvert_exporter": "python",
   "pygments_lexer": "ipython3",
   "version": "3.9.17"
  },
  "orig_nbformat": 4,
  "vscode": {
   "interpreter": {
    "hash": "cabdfcec0fd6c6e7069b723be7f473a1f72caf0bf2081b3f69322c913df461e3"
   }
  }
 },
 "nbformat": 4,
 "nbformat_minor": 2
}
