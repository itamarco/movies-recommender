{
 "cells": [
  {
   "cell_type": "code",
   "execution_count": 2,
   "metadata": {},
   "outputs": [],
   "source": [
    "import pickle\n"
   ]
  },
  {
   "cell_type": "code",
   "execution_count": 4,
   "metadata": {},
   "outputs": [],
   "source": [
    "with open('similarity_matrix.pkl', 'rb') as f1:\n",
    "    similarity_matrix = pickle.load(f1)\n",
    "\n",
    "with open('movie_id_to_matrix_similarity_idx.pkl', 'rb') as f2:\n",
    "     movie_is_to_idx = pickle.load(f2)"
   ]
  },
  {
   "cell_type": "code",
   "execution_count": 20,
   "metadata": {},
   "outputs": [],
   "source": [
    "def get_recommendations_by_id(id, similarity_matrix):\n",
    "    # Get the index of the movie that matches the title\n",
    "    idx = movie_is_to_idx[id]\n",
    "\n",
    "    # Get the pairwsie similarity scores of all movies with that movie\n",
    "    similarity_scores = list(enumerate(similarity_matrix[idx]))\n",
    "\n",
    "    # Sort the movies based on the similarity scores\n",
    "    similarity_scores = sorted(similarity_scores, key=lambda x: x[1], reverse=True)\n",
    "\n",
    "    # Get the scores of the 10 most similar movies\n",
    "    similarity_scores = similarity_scores[1:16]\n",
    "\n",
    "    # Get the movie indices\n",
    "    movies_idx = [i[0] for i in similarity_scores]\n",
    "\n",
    "    # Return the top 10 most similar movies\n",
    "    return movie_is_to_idx.iloc[movies_idx].index.tolist()"
   ]
  },
  {
   "cell_type": "code",
   "execution_count": 21,
   "metadata": {},
   "outputs": [
    {
     "data": {
      "text/plain": [
       "[11934,\n",
       " 4944,\n",
       " 44264,\n",
       " 134,\n",
       " 6977,\n",
       " 270487,\n",
       " 115,\n",
       " 86829,\n",
       " 11775,\n",
       " 5516,\n",
       " 41154,\n",
       " 150540,\n",
       " 19995,\n",
       " 285,\n",
       " 206647]"
      ]
     },
     "execution_count": 21,
     "metadata": {},
     "output_type": "execute_result"
    }
   ],
   "source": [
    "rec = get_recommendations_by_id(12573, similarity_matrix)\n",
    "rec"
   ]
  }
 ],
 "metadata": {
  "kernelspec": {
   "display_name": "Python 3.9.17 ('notebooks_env')",
   "language": "python",
   "name": "python3"
  },
  "language_info": {
   "codemirror_mode": {
    "name": "ipython",
    "version": 3
   },
   "file_extension": ".py",
   "mimetype": "text/x-python",
   "name": "python",
   "nbconvert_exporter": "python",
   "pygments_lexer": "ipython3",
   "version": "3.9.17"
  },
  "orig_nbformat": 4,
  "vscode": {
   "interpreter": {
    "hash": "cabdfcec0fd6c6e7069b723be7f473a1f72caf0bf2081b3f69322c913df461e3"
   }
  }
 },
 "nbformat": 4,
 "nbformat_minor": 2
}
